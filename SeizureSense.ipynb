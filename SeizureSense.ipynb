{
 "cells": [
  {
   "cell_type": "code",
   "execution_count": 1,
   "metadata": {},
   "outputs": [],
   "source": [
    "import torch\n",
    "import torch.nn as nn\n",
    "import torch.nn.functional as F\n",
    "from torch import Tensor\n",
    "from jaxtyping import Float\n",
    "from chbmit.chbmit import FilteredCMP, STFT"
   ]
  },
  {
   "cell_type": "code",
   "execution_count": 2,
   "metadata": {},
   "outputs": [],
   "source": [
    "device = torch.device('cuda' if torch.cuda.is_available() else 'cpu')"
   ]
  },
  {
   "cell_type": "code",
   "execution_count": 3,
   "metadata": {},
   "outputs": [
    {
     "ename": "TypeError",
     "evalue": "FilteredCMP.__init__() missing 1 required positional argument: 'sph'",
     "output_type": "error",
     "traceback": [
      "\u001b[0;31m---------------------------------------------------------------------------\u001b[0m",
      "\u001b[0;31mTypeError\u001b[0m                                 Traceback (most recent call last)",
      "Cell \u001b[0;32mIn[3], line 1\u001b[0m\n\u001b[0;32m----> 1\u001b[0m chb01 \u001b[38;5;241m=\u001b[39m \u001b[43mFilteredCMP\u001b[49m\u001b[43m(\u001b[49m\u001b[38;5;241;43m600\u001b[39;49m\u001b[43m,\u001b[49m\u001b[43m \u001b[49m\u001b[38;5;241;43m1\u001b[39;49m\u001b[43m,\u001b[49m\u001b[43m \u001b[49m\u001b[38;5;124;43m'\u001b[39;49m\u001b[38;5;124;43m'\u001b[39;49m\u001b[43m,\u001b[49m\u001b[43m \u001b[49m\u001b[43msop\u001b[49m\u001b[38;5;241;43m=\u001b[39;49m\u001b[38;5;241;43m3600\u001b[39;49m\u001b[43m,\u001b[49m\u001b[43m \u001b[49m\u001b[43mregression\u001b[49m\u001b[38;5;241;43m=\u001b[39;49m\u001b[38;5;28;43;01mTrue\u001b[39;49;00m\u001b[43m)\u001b[49m\n",
      "\u001b[0;31mTypeError\u001b[0m: FilteredCMP.__init__() missing 1 required positional argument: 'sph'"
     ]
    }
   ],
   "source": [
    "chb01 = FilteredCMP(600, 1, '', sop=3600, regression=True)"
   ]
  },
  {
   "cell_type": "code",
   "execution_count": 28,
   "metadata": {},
   "outputs": [],
   "source": [
    "class MultiHead(nn.Module):\n",
    "  def __init__(self, ):\n",
    "    super().__init__()\n",
    "    self.shared_layers = nn.Sequential(nn.Conv2d(3, 96, (11, 11), 4),\n",
    "                                       nn.MaxPool2d(2),\n",
    "                                       nn.Conv2d(96, 384, (5, 5), padding='same'), \n",
    "                                       nn.MaxPool2d(2),\n",
    "                                       nn.Conv2d(384, 384, (3, 3), padding='same'),\n",
    "                                       nn.Conv2d(384, 384, (3, 3), padding='same'),\n",
    "                                       nn.Conv2d(384, 256, (3, 3), padding='same'),\n",
    "                                       nn.MaxPool2d(2),\n",
    "                                       nn.Flatten(),\n",
    "                                       nn.Linear(9216, 4096),\n",
    "                                       nn.ReLU(),\n",
    "                                       nn.Linear(4096, 4096),\n",
    "    )\n",
    "    self.classification_head = nn.Sequential(\n",
    "      nn.Linear(4096, 1000),\n",
    "      nn.ReLU(),\n",
    "      nn.Linear(1000, 1000),\n",
    "      nn.ReLU(),\n",
    "      nn.Linear(1000, 2)\n",
    "    )\n",
    "\n",
    "    self.regression_head = nn.Sequential(\n",
    "      nn.Linear(4096, 1000),\n",
    "      nn.ReLU(),\n",
    "      nn.Linear(1000, 1000),\n",
    "      nn.ReLU(),\n",
    "      nn.Linear(1000, 1)\n",
    "    )\n",
    "\n",
    "    self.variance_head = nn.Sequential(\n",
    "      nn.Linear(4096, 1000),\n",
    "      nn.ReLU(),\n",
    "      nn.Linear(1000, 1000),\n",
    "      nn.ReLU(),\n",
    "      nn.Linear(1000, 1)\n",
    "    )\n",
    "\n",
    "  def forward(self, data): \n",
    "    shared_output = self.shared_layers(data)\n",
    "    return (self.classification_head(shared_output), self.regression_head(shared_output), self.variance_head(shared_output))\n"
   ]
  }
 ],
 "metadata": {
  "kernelspec": {
   "display_name": ".seizuresense",
   "language": "python",
   "name": "python3"
  },
  "language_info": {
   "codemirror_mode": {
    "name": "ipython",
    "version": 3
   },
   "file_extension": ".py",
   "mimetype": "text/x-python",
   "name": "python",
   "nbconvert_exporter": "python",
   "pygments_lexer": "ipython3",
   "version": "3.10.12"
  }
 },
 "nbformat": 4,
 "nbformat_minor": 2
}
