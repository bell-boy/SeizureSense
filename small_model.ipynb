{
 "cells": [
  {
   "cell_type": "code",
   "execution_count": 1,
   "metadata": {},
   "outputs": [],
   "source": [
    "import torch\n",
    "import numpy as np\n",
    "import matplotlib.pyplot as plt\n",
    "from tqdm import tqdm\n",
    "from chbmit.chbmit import FilteredCMP, CHB_MIT_PAITENT, STFT\n",
    "from mlutils import train"
   ]
  },
  {
   "cell_type": "code",
   "execution_count": 2,
   "metadata": {},
   "outputs": [],
   "source": [
    "device = torch.device('cuda' if torch.cuda.is_available() else 'cpu')"
   ]
  },
  {
   "cell_type": "code",
   "execution_count": 3,
   "metadata": {},
   "outputs": [],
   "source": [
    "d = CHB_MIT_PAITENT"
   ]
  },
  {
   "cell_type": "code",
   "execution_count": 4,
   "metadata": {},
   "outputs": [
    {
     "data": {
      "application/vnd.jupyter.widget-view+json": {
       "model_id": "cbd2fd3023c940bfadcbc64ba8d4f7f1",
       "version_major": 2,
       "version_minor": 0
      },
      "text/plain": [
       "  0%|          | 0/306 [00:00<?, ?it/s]"
      ]
     },
     "metadata": {},
     "output_type": "display_data"
    }
   ],
   "source": [
    "regression_data = FilteredCMP(512, 1, \"/workspace/physionet.org/files/chbmit/1.0.0/chb01\", 3600 * 2, 0, regression=True, use_tok_dim=False)\n",
    "#classification_data = FilteredCMP(512, 1, \"/workspace/physionet.org/files/chbmit/1.0.0/chb01\", 3600 * 2, 0, regression=False, use_tok_dim=False)"
   ]
  },
  {
   "cell_type": "code",
   "execution_count": 6,
   "metadata": {},
   "outputs": [
    {
     "data": {
      "text/plain": [
       "tensor([[-0.1634, -0.0225, -0.0458],\n",
       "        [-0.1695, -0.0363, -0.0380],\n",
       "        [-0.1593, -0.0271, -0.0370],\n",
       "        [-0.1257, -0.0417, -0.0292],\n",
       "        [-0.1940, -0.0261,  0.0351],\n",
       "        [-0.1588, -0.0268, -0.0275],\n",
       "        [-0.1544, -0.0197, -0.0296],\n",
       "        [-0.1122, -0.0485, -0.0389]], device='cuda:0',\n",
       "       grad_fn=<AddmmBackward0>)"
      ]
     },
     "execution_count": 6,
     "metadata": {},
     "output_type": "execute_result"
    }
   ],
   "source": [
    "dl = torch.utils.data.DataLoader(regression_data, batch_size=8)\n",
    "data, label = next(iter(dl))\n",
    "m = torch.nn.Sequential(\n",
    "          STFT(10 * 256, 10 * 256, device=device),\n",
    "          torch.nn.Conv2d(23, 126, (3, 3)),\n",
    "          torch.nn.ReLU(),\n",
    "          torch.nn.MaxPool2d((2, 2)),\n",
    "          torch.nn.Conv2d(126, 64, (3, 3)),\n",
    "          torch.nn.ReLU(),\n",
    "          torch.nn.MaxPool2d((2, 2)),\n",
    "          torch.nn.Conv2d(64, 64, (3, 3)),\n",
    "          torch.nn.ReLU(),\n",
    "          torch.nn.MaxPool2d((2, 2)),\n",
    "          torch.nn.Flatten(),\n",
    "          torch.nn.Linear(40448, 4096),\n",
    "          torch.nn.ReLU(),\n",
    "          torch.nn.Linear(4096, 256),\n",
    "          torch.nn.ReLU(),\n",
    "          torch.nn.Linear(256, 3),\n",
    "        ).to(device)\n",
    "\n",
    "s = STFT(10 * 256, 10 * 256, )\n",
    "s.to(device)\n",
    "m(data.to(device))"
   ]
  },
  {
   "cell_type": "markdown",
   "metadata": {},
   "source": [
    "# 1D Conv Network"
   ]
  },
  {
   "cell_type": "markdown",
   "metadata": {},
   "source": [
    "## Models and Init"
   ]
  },
  {
   "cell_type": "code",
   "execution_count": 6,
   "metadata": {},
   "outputs": [],
   "source": [
    "class SimpleConv(torch.nn.Module):\n",
    "  def __init__(self):\n",
    "    super().__init__()\n",
    "    self.feat_exctract = torch.nn.Sequential(torch.nn.Conv1d(23, 64, (5)),\n",
    "                                             torch.nn.ReLU(),\n",
    "                                             torch.nn.MaxPool1d((3)),\n",
    "                                             torch.nn.Conv1d(64, 64, (5)),\n",
    "                                             torch.nn.ReLU(),\n",
    "                                             torch.nn.MaxPool1d((3)),\n",
    "                                             torch.nn.Conv1d(64, 64, (5)),\n",
    "                                             torch.nn.ReLU(),\n",
    "                                             torch.nn.MaxPool1d((3)))\n",
    "    self.class_head = torch.nn.Sequential(torch.nn.Linear(310528, 4096),\n",
    "                                          torch.nn.ReLU(),\n",
    "                                          torch.nn.Linear(4096, 128),\n",
    "                                          torch.nn.ReLU(),\n",
    "                                          torch.nn.Linear(128, 2))\n",
    "\n",
    "  def forward(self, data):\n",
    "    return self.class_head(self.feat_exctract(data).flatten())"
   ]
  },
  {
   "cell_type": "code",
   "execution_count": 40,
   "metadata": {},
   "outputs": [],
   "source": []
  }
 ],
 "metadata": {
  "kernelspec": {
   "display_name": "ss",
   "language": "python",
   "name": "ss"
  },
  "language_info": {
   "codemirror_mode": {
    "name": "ipython",
    "version": 3
   },
   "file_extension": ".py",
   "mimetype": "text/x-python",
   "name": "python",
   "nbconvert_exporter": "python",
   "pygments_lexer": "ipython3",
   "version": "3.1.-1"
  }
 },
 "nbformat": 4,
 "nbformat_minor": 2
}
