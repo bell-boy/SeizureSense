{
 "cells": [
  {
   "cell_type": "markdown",
   "metadata": {
    "id": "hkScKHb2Kp6R"
   },
   "source": [
    "# Imports & Setup"
   ]
  },
  {
   "cell_type": "code",
   "execution_count": 74,
   "metadata": {
    "id": "6Yr2TOMhOSCq"
   },
   "outputs": [],
   "source": [
    "import torch\n",
    "from torch import nn\n",
    "import torch.nn.functional as F\n",
    "import numpy as np\n",
    "import matplotlib.pyplot as plt\n",
    "import mne\n",
    "import time\n",
    "from tqdm.notebook import tqdm\n",
    "from chbmit.chbmit import FilteredCMP, STFT, CHB_MIT_PAITENT, stft\n",
    "import torchmetrics\n",
    "from mlutils import train\n",
    "import lightning as L\n",
    "from lightning.pytorch.callbacks import EarlyStopping, ModelCheckpoint\n",
    "from lightning.pytorch.loggers import TensorBoardLogger\n",
    "import gc"
   ]
  },
  {
   "cell_type": "code",
   "execution_count": 2,
   "metadata": {
    "id": "5mYIoEg_PMp9"
   },
   "outputs": [],
   "source": [
    "device = torch.device('cuda' if torch.cuda.is_available() else 'cpu')\n",
    "torch.set_float32_matmul_precision('medium')"
   ]
  },
  {
   "cell_type": "code",
   "execution_count": 3,
   "metadata": {},
   "outputs": [
    {
     "data": {
      "text/plain": [
       "<torch._C.Generator at 0x7f67131f6310>"
      ]
     },
     "execution_count": 3,
     "metadata": {},
     "output_type": "execute_result"
    }
   ],
   "source": [
    "torch.manual_seed(0)"
   ]
  },
  {
   "cell_type": "code",
   "execution_count": 4,
   "metadata": {
    "colab": {
     "base_uri": "https://localhost:8080/",
     "height": 1000
    },
    "id": "j80sCUxW7FrT",
    "outputId": "6e38e37d-3a02-4e5e-d991-c7294e6948b9",
    "scrolled": true
   },
   "outputs": [
    {
     "data": {
      "application/vnd.jupyter.widget-view+json": {
       "model_id": "f794ad13209a4ad784712d0b2048173d",
       "version_major": 2,
       "version_minor": 0
      },
      "text/plain": [
       "  0%|          | 0/9992 [00:00<?, ?it/s]"
      ]
     },
     "metadata": {},
     "output_type": "display_data"
    },
    {
     "data": {
      "application/vnd.jupyter.widget-view+json": {
       "model_id": "34ae722fdf6e47e487703aa60ff42639",
       "version_major": 2,
       "version_minor": 0
      },
      "text/plain": [
       "  0%|          | 0/10217 [00:00<?, ?it/s]"
      ]
     },
     "metadata": {},
     "output_type": "display_data"
    }
   ],
   "source": [
    "regression_data = FilteredCMP(16, 32, \"/workspace/physionet.org/files/chbmit/1.0.0/chb01\", 3600, 0, regression=True, use_tok_dim=False)\n",
    "classification_data = FilteredCMP(16, 32, \"/workspace/physionet.org/files/chbmit/1.0.0/chb01\", 3600, 0, regression=False, use_tok_dim=False)"
   ]
  },
  {
   "cell_type": "code",
   "execution_count": 5,
   "metadata": {},
   "outputs": [],
   "source": [
    "class RegressionOnly(torch.utils.data.Dataset):\n",
    "  def __init__(self, raw_data):\n",
    "    self.data = raw_data\n",
    "    self.filtered_idx_list = []\n",
    "    for i in tqdm(range(len(self.data))):\n",
    "      data, label = self.data[i]\n",
    "      if((np.abs(data) > 1e-8).astype(np.longlong).sum() / data.size > .98 and label != float('inf')):\n",
    "        self.filtered_idx_list.append(i)\n",
    "\n",
    "  def __len__(self):\n",
    "    return len(self.filtered_idx_list)\n",
    "  \n",
    "  def __getitem__(self, idx):\n",
    "    return self.data[self.filtered_idx_list[idx]]"
   ]
  },
  {
   "cell_type": "code",
   "execution_count": 6,
   "metadata": {},
   "outputs": [],
   "source": [
    "training_regression_data, test_regression_data = torch.utils.data.random_split(regression_data, [.80, .20])\n",
    "training_class_data, test_class_data = torch.utils.data.random_split(classification_data, [.80, .20])\n",
    "\n",
    "test_dataloader = torch.utils.data.DataLoader(test_regression_data, batch_size=32, num_workers=4)"
   ]
  },
  {
   "cell_type": "code",
   "execution_count": 7,
   "metadata": {},
   "outputs": [],
   "source": [
    "reg_folds = torch.utils.data.random_split(training_regression_data, [.20, .20, .20, .20, .20])"
   ]
  },
  {
   "cell_type": "markdown",
   "metadata": {
    "jp-MarkdownHeadingCollapsed": true
   },
   "source": [
    "# Baseline CNN classifier (no STFT)"
   ]
  },
  {
   "cell_type": "markdown",
   "metadata": {},
   "source": [
    "## Model & Data Init."
   ]
  },
  {
   "cell_type": "code",
   "execution_count": 85,
   "metadata": {},
   "outputs": [],
   "source": [
    "class SimpleConv(torch.nn.Module):\n",
    "  def __init__(self):\n",
    "    super().__init__()\n",
    "    self.feat_exctract = torch.nn.Sequential(torch.nn.Conv1d(23, 64, (5)),\n",
    "                                             torch.nn.ReLU(),\n",
    "                                             torch.nn.MaxPool1d((3)),\n",
    "                                             torch.nn.Conv1d(64, 32, (5)),\n",
    "                                             torch.nn.ReLU(),\n",
    "                                             torch.nn.MaxPool1d((3)),\n",
    "                                             torch.nn.Conv1d(32, 16, (5)),\n",
    "                                             torch.nn.ReLU(),\n",
    "                                             torch.nn.MaxPool1d((3)),\n",
    "                                             torch.nn.Conv1d(16, 8, (5)),\n",
    "                                             torch.nn.ReLU(),\n",
    "                                             torch.nn.MaxPool1d((3)),\n",
    "                                             torch.nn.Conv1d(8, 4, (5)),\n",
    "                                             torch.nn.ReLU(),\n",
    "                                             torch.nn.MaxPool1d((3)),\n",
    "                                             torch.nn.Flatten())\n",
    "    self.class_head = torch.nn.Sequential(torch.nn.Linear(2148, 128),\n",
    "                                          torch.nn.ReLU(),\n",
    "                                          torch.nn.Linear(128, 2))\n",
    "\n",
    "  def forward(self, data):\n",
    "    return self.class_head(self.feat_exctract(data))\n",
    "\n",
    "CNN = SimpleConv().to(device)"
   ]
  },
  {
   "cell_type": "code",
   "execution_count": 78,
   "metadata": {},
   "outputs": [],
   "source": [
    "batch_size = 30\n",
    "learning_rate = 1e-4\n",
    "\n",
    "training_data, val_data, test_data = torch.utils.data.random_split(classification_data, [0.8, 0.1, 0.1])\n",
    "train_dataloader = torch.utils.data.DataLoader(training_data, batch_size=batch_size, shuffle=True)\n",
    "val_dataloader = torch.utils.data.DataLoader(val_data, batch_size=batch_size,)\n",
    "test_dataloader = torch.utils.data.DataLoader(test_data, batch_size=batch_size,)"
   ]
  },
  {
   "cell_type": "code",
   "execution_count": 79,
   "metadata": {},
   "outputs": [],
   "source": [
    "optim = torch.optim.Adam(CNN.parameters(), lr=learning_rate, weight_decay=1e-2)\n",
    "loss_fn = torch.nn.CrossEntropyLoss(torch.Tensor([1.16, 7.23]).to(device))"
   ]
  },
  {
   "cell_type": "markdown",
   "metadata": {},
   "source": [
    "## Training & Validation"
   ]
  },
  {
   "cell_type": "code",
   "execution_count": 80,
   "metadata": {},
   "outputs": [
    {
     "name": "stderr",
     "output_type": "stream",
     "text": [
      "  0%|          | 0/40 [00:00<?, ?it/s]/opt/conda/envs/ss/lib/python3.12/site-packages/torch/autograd/graph.py:744: UserWarning: Plan failed with a cudnnException: CUDNN_BACKEND_EXECUTION_PLAN_DESCRIPTOR: cudnnFinalize Descriptor Failed cudnn_status: CUDNN_STATUS_NOT_SUPPORTED (Triggered internally at /opt/conda/conda-bld/pytorch_1712608847532/work/aten/src/ATen/native/cudnn/Conv_v8.cpp:919.)\n",
      "  return Variable._execution_engine.run_backward(  # Calls into the C++ engine to run the backward pass\n",
      "100%|██████████| 40/40 [14:19<00:00, 21.48s/it]\n"
     ]
    },
    {
     "data": {
      "image/png": "[encoded data removed]",
      "text/plain": [
       "<Figure size 640x480 with 1 Axes>"
      ]
     },
     "metadata": {},
     "output_type": "display_data"
    },
    {
     "data": {
      "image/png": "[encoded data removed]",
      "text/plain": [
       "<Figure size 640x480 with 1 Axes>"
      ]
     },
     "metadata": {},
     "output_type": "display_data"
    }
   ],
   "source": [
    "epochs=70\n",
    "losses = []\n",
    "accuracy = []\n",
    "best_accuracy = 0\n",
    "for _ in tqdm(range(epochs)):\n",
    "  losses.extend(train.train_epoch_classifcation(CNN, train_dataloader, optim, loss_fn=loss_fn, device=device))\n",
    "  TP, TN, FP, FN = train.validate_binary_softmax(CNN, val_dataloader, device=device)\n",
    "  if((TP + TN) / (TP + FP + TN + FN) > best_accuracy):\n",
    "    torch.save(CNN.state_dict(), \"CNN.pt\")\n",
    "    best_accuracy = (TP + TN) / (TP + FP + TN + FN)\n",
    "  accuracy.append((TP + TN) / (TP + FP + TN + FN))\n",
    "\n",
    "plt.title(\"Loss vs. Batches Seen\")\n",
    "plt.plot(losses)\n",
    "plt.ylim(bottom=0)\n",
    "plt.show()\n",
    "\n",
    "plt.title(\"Accuracy vs. Epochs\")\n",
    "plt.plot(accuracy)\n",
    "plt.ylim((0, 1))\n",
    "plt.show()"
   ]
  },
  {
   "cell_type": "code",
   "execution_count": 83,
   "metadata": {},
   "outputs": [
    {
     "name": "stderr",
     "output_type": "stream",
     "text": [
      "                                             "
     ]
    },
    {
     "name": "stdout",
     "output_type": "stream",
     "text": [
      "Sensitivity: 1.0\n",
      "Specificity: 0.9545454545454546\n",
      "Accuracy: 0.9629629629629629\n",
      "FPR/h 0.27272727272727276\n"
     ]
    },
    {
     "name": "stderr",
     "output_type": "stream",
     "text": [
      "\r"
     ]
    }
   ],
   "source": [
    "TP, TN, FP, FN = train.validate_binary_softmax(CNN, test_dataloader, device=device)\n",
    "print(f\"Sensitivity: {TP / (TP + FN)}\")\n",
    "print(f\"Specificity: {TN / (TN + FP)}\")\n",
    "print(f\"Accuracy: {(TP + TN) / (TP + FP + TN + FN)}\")\n",
    "print(f\"FPR/h {FP / (FP + TN) / (1 / 6)}\")"
   ]
  },
  {
   "cell_type": "code",
   "execution_count": 82,
   "metadata": {},
   "outputs": [
    {
     "data": {
      "text/plain": [
       "<All keys matched successfully>"
      ]
     },
     "execution_count": 82,
     "metadata": {},
     "output_type": "execute_result"
    }
   ],
   "source": [
    "CNN.load_state_dict(torch.load(\"CNN.pt\"))"
   ]
  },
  {
   "cell_type": "code",
   "execution_count": 86,
   "metadata": {},
   "outputs": [
    {
     "name": "stderr",
     "output_type": "stream",
     "text": [
      "                                             \r"
     ]
    },
    {
     "data": {
      "image/png": "[encoded data removed]",
      "text/plain": [
       "<Figure size 640x480 with 1 Axes>"
      ]
     },
     "metadata": {},
     "output_type": "display_data"
    },
    {
     "data": {
      "text/plain": [
       "0.36363636363636365"
      ]
     },
     "execution_count": 86,
     "metadata": {},
     "output_type": "execute_result"
    }
   ],
   "source": [
    "train.validate_binary_auc(CNN, test_dataloader, device=device)"
   ]
  },
  {
   "cell_type": "markdown",
   "metadata": {
    "id": "pGLDKqvVKt_2",
    "jp-MarkdownHeadingCollapsed": true
   },
   "source": [
    "# Baseline CNN classifier (STFT)"
   ]
  },
  {
   "cell_type": "markdown",
   "metadata": {},
   "source": [
    "## Model & Data Init."
   ]
  },
  {
   "cell_type": "code",
   "execution_count": 4,
   "metadata": {
    "id": "AlrXEnjkaOUw"
   },
   "outputs": [
    {
     "name": "stderr",
     "output_type": "stream",
     "text": [
      "/opt/conda/envs/ss/lib/python3.12/site-packages/torch/cuda/__init__.py:619: UserWarning: Can't initialize NVML\n",
      "  warnings.warn(\"Can't initialize NVML\")\n"
     ]
    }
   ],
   "source": [
    "CESP = torch.nn.Sequential(\n",
    "  STFT(10 * 256, 10 * 256, device=device),\n",
    "  torch.nn.Conv2d(23, 126, (3, 3)),\n",
    "  torch.nn.ReLU(),\n",
    "  torch.nn.MaxPool2d((2, 2)),\n",
    "  torch.nn.Conv2d(126, 64, (3, 3)),\n",
    "  torch.nn.ReLU(),\n",
    "  torch.nn.MaxPool2d((2, 2)),\n",
    "  torch.nn.Conv2d(64, 64, (3, 3)),\n",
    "  torch.nn.ReLU(),\n",
    "  torch.nn.MaxPool2d((2, 2)),\n",
    "  torch.nn.Flatten(),\n",
    "  torch.nn.Linear(40448, 4096),\n",
    "  torch.nn.ReLU(),\n",
    "  torch.nn.Linear(4096, 256),\n",
    "  torch.nn.ReLU(),\n",
    "  torch.nn.Linear(256, 2),\n",
    ").to(device)"
   ]
  },
  {
   "cell_type": "code",
   "execution_count": 5,
   "metadata": {},
   "outputs": [],
   "source": [
    "batch_size = 30\n",
    "learning_rate = 1e-4\n",
    "\n",
    "training_data, val_data, test_data = torch.utils.data.random_split(classification_data, [0.8, 0.1, 0.1])\n",
    "train_dataloader = torch.utils.data.DataLoader(training_data, batch_size=batch_size, shuffle=True)\n",
    "val_dataloader = torch.utils.data.DataLoader(val_data, batch_size=batch_size,)\n",
    "test_dataloader = torch.utils.data.DataLoader(test_data, batch_size=batch_size,)"
   ]
  },
  {
   "cell_type": "code",
   "execution_count": 6,
   "metadata": {},
   "outputs": [
    {
     "name": "stderr",
     "output_type": "stream",
     "text": [
      "/opt/conda/envs/ss/lib/python3.12/site-packages/tqdm/auto.py:21: TqdmWarning: IProgress not found. Please update jupyter and ipywidgets. See https://ipywidgets.readthedocs.io/en/stable/user_install.html\n",
      "  from .autonotebook import tqdm as notebook_tqdm\n"
     ]
    }
   ],
   "source": [
    "optim = torch.optim.Adam(CESP.parameters(), lr=learning_rate, weight_decay=1e-2)\n",
    "loss_fn = torch.nn.CrossEntropyLoss(torch.Tensor([1.16, 7.23]).to(device))"
   ]
  },
  {
   "cell_type": "markdown",
   "metadata": {},
   "source": [
    "## Training & Validation"
   ]
  },
  {
   "cell_type": "code",
   "execution_count": 7,
   "metadata": {},
   "outputs": [
    {
     "name": "stderr",
     "output_type": "stream",
     "text": [
      "  0%|          | 0/40 [00:00<?, ?it/s]/opt/conda/envs/ss/lib/python3.12/site-packages/torch/nn/modules/conv.py:456: UserWarning: Plan failed with a cudnnException: CUDNN_BACKEND_EXECUTION_PLAN_DESCRIPTOR: cudnnFinalize Descriptor Failed cudnn_status: CUDNN_STATUS_NOT_SUPPORTED (Triggered internally at /opt/conda/conda-bld/pytorch_1712608847532/work/aten/src/ATen/native/cudnn/Conv_v8.cpp:919.)\n",
      "  return F.conv2d(input, weight, bias, self.stride,\n",
      "100%|██████████| 40/40 [23:28<00:00, 35.21s/it]\n"
     ]
    },
    {
     "data": {
      "image/png": "[encoded data removed]",
      "text/plain": [
       "<Figure size 640x480 with 1 Axes>"
      ]
     },
     "metadata": {},
     "output_type": "display_data"
    },
    {
     "data": {
      "image/png": "[encoded data removed]",
      "text/plain": [
       "<Figure size 640x480 with 1 Axes>"
      ]
     },
     "metadata": {},
     "output_type": "display_data"
    }
   ],
   "source": [
    "epochs=40\n",
    "losses = []\n",
    "accuracy = []\n",
    "best_accuracy = 0\n",
    "for _ in tqdm(range(epochs)):\n",
    "  losses.extend(train.train_epoch_classifcation(CESP, train_dataloader, optim, loss_fn=loss_fn, device=device))\n",
    "  TP, TN, FP, FN = train.validate_binary_softmax(CESP, val_dataloader, device=device)\n",
    "  if((TP + TN) / (TP + FP + TN + FN) > best_accuracy):\n",
    "    torch.save(CESP.state_dict(), \"CESP.pt\")\n",
    "    best_accuracy = (TP + TN) / (TP + FP + TN + FN)\n",
    "  accuracy.append((TP + TN) / (TP + FP + TN + FN))\n",
    "\n",
    "plt.title(\"Loss vs. Batches Seen\")\n",
    "plt.plot(losses)\n",
    "plt.ylim(bottom=0)\n",
    "plt.show()\n",
    "\n",
    "plt.title(\"Accuracy vs. Epochs\")\n",
    "plt.plot(accuracy)\n",
    "plt.ylim((0, 1))\n",
    "plt.show()"
   ]
  },
  {
   "cell_type": "code",
   "execution_count": 8,
   "metadata": {},
   "outputs": [
    {
     "name": "stderr",
     "output_type": "stream",
     "text": [
      "                                             "
     ]
    },
    {
     "name": "stdout",
     "output_type": "stream",
     "text": [
      "Sensitivity: 0.8571428571428571\n",
      "Specificity: 0.9\n",
      "Accuracy: 0.8888888888888888\n",
      "FPR/h 0.6000000000000001\n"
     ]
    },
    {
     "name": "stderr",
     "output_type": "stream",
     "text": [
      "\r"
     ]
    }
   ],
   "source": [
    "TP, TN, FP, FN = train.validate_binary_softmax(CESP, test_dataloader, device=device)\n",
    "print(f\"Sensitivity: {TP / (TP + FN)}\")\n",
    "print(f\"Specificity: {TN / (TN + FP)}\")\n",
    "print(f\"Accuracy: {(TP + TN) / (TP + FP + TN + FN)}\")\n",
    "print(f\"FPR/h {FP / (FP + TN) / (1 / 6)}\")"
   ]
  },
  {
   "cell_type": "code",
   "execution_count": 9,
   "metadata": {},
   "outputs": [
    {
     "data": {
      "text/plain": [
       "<All keys matched successfully>"
      ]
     },
     "execution_count": 9,
     "metadata": {},
     "output_type": "execute_result"
    }
   ],
   "source": [
    "CESP.load_state_dict(torch.load(\"CESP.pt\"))"
   ]
  },
  {
   "cell_type": "code",
   "execution_count": 10,
   "metadata": {},
   "outputs": [
    {
     "data": {
      "text/plain": [
       "27"
      ]
     },
     "execution_count": 10,
     "metadata": {},
     "output_type": "execute_result"
    }
   ],
   "source": [
    "len(test_data)"
   ]
  },
  {
   "cell_type": "code",
   "execution_count": 11,
   "metadata": {},
   "outputs": [
    {
     "name": "stderr",
     "output_type": "stream",
     "text": [
      "  0%|          | 0/1 [00:00<?, ?it/s]"
     ]
    },
    {
     "name": "stderr",
     "output_type": "stream",
     "text": [
      "                                             \r"
     ]
    },
    {
     "data": {
      "image/png": "[encoded data removed]",
      "text/plain": [
       "<Figure size 640x480 with 1 Axes>"
      ]
     },
     "metadata": {},
     "output_type": "display_data"
    },
    {
     "data": {
      "text/plain": [
       "0.9714285714285714"
      ]
     },
     "execution_count": 11,
     "metadata": {},
     "output_type": "execute_result"
    }
   ],
   "source": [
    "train.validate_binary_auc(CESP, test_dataloader, device=device)"
   ]
  },
  {
   "cell_type": "markdown",
   "metadata": {},
   "source": [
    "# NLL Heteroscedastic (w/ improvements)"
   ]
  },
  {
   "cell_type": "markdown",
   "metadata": {},
   "source": [
    "**Improvements Made**: \n",
    "  - Loss decomposed into classification, regression, and entropy.\n",
    "  - We weight the classifaction loss using the formula $\\frac{N_{total}}{N_{class}}$\n",
    "  - We minimize the variance directly instead of minimizing entropy\n",
    "\n",
    "**Notes on Defualt Behavior w/o improvements**:\n",
    "  - Generally will converge, you'll see two flat regions w/ a phase transition in between when the model learns the classifcation loss. It will improve marginally on the regression loss.\n",
    "  - Windows tend to be unusably wide\n",
    "  - Regression Not accurate\n",
    "  - Classifcation prediction is unconfident and wrong\n",
    "\n",
    "**Notes on Default Behavior w/ improvements**:\n",
    "  - In first part of the curve, we see a larger regression loss with classification loss balencing out fairly quickly. Loss is driven to zero fast.\n",
    "  - Loss isn't really correlated with accuracy after a certain point. Accuracy will continue to improve even after loss stops meaningfully decreasing\n",
    "  - Large varience in how well training runs do"
   ]
  },
  {
   "cell_type": "markdown",
   "metadata": {},
   "source": [
    "## Model and Data Init."
   ]
  },
  {
   "cell_type": "code",
   "execution_count": null,
   "metadata": {},
   "outputs": [],
   "source": [
    "sample = torch.Tensor([label.item() for data, label in reg_train if label != float('inf')])\n",
    "norm=(sample.mean().item(), sample.std().item()/(1 ** 0.5))\n",
    "pos_weight = len(sample) / len(reg_train)\n",
    "neg_weight = 1 - pos_weight\n",
    "pos_weight = 1 / pos_weight\n",
    "neg_weight = 1 / neg_weight"
   ]
  },
  {
   "cell_type": "code",
   "execution_count": 8,
   "metadata": {},
   "outputs": [],
   "source": [
    "pos_weight = 6\n",
    "neg_weight = 1"
   ]
  },
  {
   "cell_type": "code",
   "execution_count": 26,
   "metadata": {},
   "outputs": [],
   "source": [
    "class REGCNN(L.LightningModule):\n",
    "    def __init__(self):\n",
    "        super().__init__()\n",
    "        self.model = torch.nn.Sequential(\n",
    "          STFT(10 * 256, 10 * 256, device=device),\n",
    "          torch.nn.Conv2d(23, 126, (3, 3)),\n",
    "          torch.nn.ReLU(),\n",
    "          torch.nn.MaxPool2d((2, 2)),\n",
    "          torch.nn.Conv2d(126, 64, (3, 3)),\n",
    "          torch.nn.ReLU(),\n",
    "          torch.nn.MaxPool2d((2, 2)),\n",
    "          torch.nn.Conv2d(64, 64, (3, 3)),\n",
    "          torch.nn.ReLU(),\n",
    "          torch.nn.MaxPool2d((2, 2)),\n",
    "          torch.nn.Flatten(),\n",
    "          torch.nn.Linear(40448, 4096),\n",
    "          torch.nn.ReLU(),\n",
    "          torch.nn.Linear(4096, 256),\n",
    "          torch.nn.ReLU(),\n",
    "          torch.nn.Linear(256, 3),\n",
    "        )\n",
    "\n",
    "    def training_step(self, batch, batch_idx):\n",
    "        data, label = batch\n",
    "        pred = self.model(data)\n",
    "        classifcation_loss = 0\n",
    "        loss = torch.zeros_like(label).float()\n",
    "        prob = torch.nn.functional.sigmoid(pred[..., 0])\n",
    "        mean = pred[..., 1][(label != float('inf'))]\n",
    "        var = torch.square(pred[..., 2][(label != float('inf'))])\n",
    "        loss[(label == float('inf'))] = -torch.log(1 - prob[(label == float('inf'))] + 1e-8) * neg_weight\n",
    "        loss[(label != float('inf'))] = -torch.log(prob[(label != float('inf'))] + 1e-8) * pos_weight\n",
    "        classifcation_loss = loss.mean(dim=-1)\n",
    "        self.log('classification_loss', classifcation_loss)\n",
    "        # loss[(label != float('inf'))] += torch.log((label[(label != float('inf'))] - mean) ** 2) - torch.log(2 * var)\n",
    "        loss[(label != float('inf'))] += ((label[(label != float('inf'))] - mean) ** 2) / (2 * var)\n",
    "        # loss[(label != float('inf'))] += torch.log(torch.sqrt(2 * torch.pi * var)) # entropy\n",
    "        loss[(label != float('inf'))] += torch.sqrt(var)\n",
    "        self.log('regression_loss', loss.mean(dim=-1) - classifcation_loss)\n",
    "        self.log('train_loss', loss.mean(dim=-1))\n",
    "        return loss.mean(dim=-1)\n",
    "\n",
    "    def validation_step(self, batch, batch_step):\n",
    "        TP, TN, FP, FN = 0, 0, 0, 0\n",
    "        data, label = batch\n",
    "        data = data.float()\n",
    "        label = label.float()\n",
    "        prob = self.model(data)[..., 0]\n",
    "        pred = torch.zeros_like(prob)\n",
    "        pred[prob > 0.5] = 1\n",
    "        \n",
    "        TN += ((pred == 0) & (label == float('inf'))).sum(dim=-1).item()\n",
    "        FN += ((pred == 0) & (label != float('inf'))).sum(dim=-1).item()\n",
    "        TP += ((pred == 1) & (label != float('inf'))).sum(dim=-1).item()\n",
    "        FP += ((pred == 1) & (label == float('inf'))).sum(dim=-1).item()\n",
    "        self.log('acc', (TP + TN) / (TP + FP + TN + FN))\n",
    "        if TP + FN != 0:\n",
    "            self.log('sens', TP / (TP + FN))\n",
    "        if TN + FP != 0:\n",
    "            self.log('spec', TN / (TN + FP))\n",
    "\n",
    "    def configure_optimizers(self):\n",
    "        return torch.optim.Adam(self.parameters(), lr=1e-4, weight_decay=1e-2)\n"
   ]
  },
  {
   "cell_type": "code",
   "execution_count": 91,
   "metadata": {},
   "outputs": [],
   "source": [
    "L.pytorch.utilities.memory.garbage_collection_cuda()\n",
    "torch.cuda.memory_allocated()\n",
    "# Function to delete all CUDA tensors\n",
    "def delete_all_cuda_tensors():\n",
    "    for obj in gc.get_objects():\n",
    "        try:\n",
    "            if torch.is_tensor(obj) and obj.is_cuda:\n",
    "                del obj\n",
    "        except:\n",
    "            pass\n",
    "    # Call garbage collector to free up memory\n",
    "    gc.collect()\n",
    "    torch.cuda.empty_cache()\n",
    "\n",
    "# Example usage\n",
    "delete_all_cuda_tensors()"
   ]
  },
  {
   "cell_type": "code",
   "execution_count": 27,
   "metadata": {},
   "outputs": [
    {
     "name": "stdout",
     "output_type": "stream",
     "text": [
      "FOLD 0\n",
      "--------------------------------\n"
     ]
    },
    {
     "name": "stderr",
     "output_type": "stream",
     "text": [
      "GPU available: True (cuda), used: True\n",
      "TPU available: False, using: 0 TPU cores\n",
      "HPU available: False, using: 0 HPUs\n",
      "Missing logger folder: tb_logs/NLL_HET_std_pen\n",
      "/opt/conda/envs/ss/lib/python3.12/site-packages/lightning/pytorch/callbacks/model_checkpoint.py:652: Checkpoint directory /workspace/SeizureSense/REGCNN exists and is not empty.\n",
      "LOCAL_RANK: 0 - CUDA_VISIBLE_DEVICES: [0]\n",
      "\n",
      "  | Name  | Type       | Params | Mode \n",
      "---------------------------------------------\n",
      "0 | model | Sequential | 166 M  | train\n",
      "---------------------------------------------\n",
      "166 M     Trainable params\n",
      "0         Non-trainable params\n",
      "166 M     Total params\n",
      "667.458   Total estimated model params size (MB)\n"
     ]
    },
    {
     "data": {
      "application/vnd.jupyter.widget-view+json": {
       "model_id": "aaee5f130cea4f17a51eabcb070af1fd",
       "version_major": 2,
       "version_minor": 0
      },
      "text/plain": [
       "Sanity Checking: |          | 0/? [00:00<?, ?it/s]"
      ]
     },
     "metadata": {},
     "output_type": "display_data"
    },
    {
     "data": {
      "application/vnd.jupyter.widget-view+json": {
       "model_id": "fa101b1e4aca42e581227efa6862288f",
       "version_major": 2,
       "version_minor": 0
      },
      "text/plain": [
       "Training: |          | 0/? [00:00<?, ?it/s]"
      ]
     },
     "metadata": {},
     "output_type": "display_data"
    },
    {
     "data": {
      "application/vnd.jupyter.widget-view+json": {
       "model_id": "885e1b9841d54dfe83949eb3ec211d5a",
       "version_major": 2,
       "version_minor": 0
      },
      "text/plain": [
       "Validation: |          | 0/? [00:00<?, ?it/s]"
      ]
     },
     "metadata": {},
     "output_type": "display_data"
    },
    {
     "name": "stderr",
     "output_type": "stream",
     "text": [
      "Metric acc improved. New best score: 0.833\n"
     ]
    },
    {
     "data": {
      "application/vnd.jupyter.widget-view+json": {
       "model_id": "89f30907be98416a9cb00aa10ff3f82a",
       "version_major": 2,
       "version_minor": 0
      },
      "text/plain": [
       "Validation: |          | 0/? [00:00<?, ?it/s]"
      ]
     },
     "metadata": {},
     "output_type": "display_data"
    },
    {
     "name": "stderr",
     "output_type": "stream",
     "text": [
      "Metric acc improved by 0.030 >= min_delta = 0.0. New best score: 0.863\n"
     ]
    },
    {
     "data": {
      "application/vnd.jupyter.widget-view+json": {
       "model_id": "0355bd0495df4c02bada3fd75225e13b",
       "version_major": 2,
       "version_minor": 0
      },
      "text/plain": [
       "Validation: |          | 0/? [00:00<?, ?it/s]"
      ]
     },
     "metadata": {},
     "output_type": "display_data"
    },
    {
     "data": {
      "application/vnd.jupyter.widget-view+json": {
       "model_id": "23021d61e4c04c5093c87ace4c815109",
       "version_major": 2,
       "version_minor": 0
      },
      "text/plain": [
       "Validation: |          | 0/? [00:00<?, ?it/s]"
      ]
     },
     "metadata": {},
     "output_type": "display_data"
    },
    {
     "name": "stderr",
     "output_type": "stream",
     "text": [
      "Metric acc improved by 0.008 >= min_delta = 0.0. New best score: 0.871\n"
     ]
    },
    {
     "data": {
      "application/vnd.jupyter.widget-view+json": {
       "model_id": "31598b2028e2451d82728ebb251250ed",
       "version_major": 2,
       "version_minor": 0
      },
      "text/plain": [
       "Validation: |          | 0/? [00:00<?, ?it/s]"
      ]
     },
     "metadata": {},
     "output_type": "display_data"
    },
    {
     "name": "stderr",
     "output_type": "stream",
     "text": [
      "Metric acc improved by 0.008 >= min_delta = 0.0. New best score: 0.879\n"
     ]
    },
    {
     "data": {
      "application/vnd.jupyter.widget-view+json": {
       "model_id": "2756bbd46ecf4d53afdb47aabd1ffa9f",
       "version_major": 2,
       "version_minor": 0
      },
      "text/plain": [
       "Validation: |          | 0/? [00:00<?, ?it/s]"
      ]
     },
     "metadata": {},
     "output_type": "display_data"
    },
    {
     "data": {
      "application/vnd.jupyter.widget-view+json": {
       "model_id": "64db26edf6b2450695daef39aae5c312",
       "version_major": 2,
       "version_minor": 0
      },
      "text/plain": [
       "Validation: |          | 0/? [00:00<?, ?it/s]"
      ]
     },
     "metadata": {},
     "output_type": "display_data"
    },
    {
     "name": "stderr",
     "output_type": "stream",
     "text": [
      "Metric acc improved by 0.004 >= min_delta = 0.0. New best score: 0.883\n"
     ]
    },
    {
     "data": {
      "application/vnd.jupyter.widget-view+json": {
       "model_id": "2f28449a33c142079e4ad558a0085c68",
       "version_major": 2,
       "version_minor": 0
      },
      "text/plain": [
       "Validation: |          | 0/? [00:00<?, ?it/s]"
      ]
     },
     "metadata": {},
     "output_type": "display_data"
    },
    {
     "data": {
      "application/vnd.jupyter.widget-view+json": {
       "model_id": "0f2f67eacffe40d2b78d3f7429aac26d",
       "version_major": 2,
       "version_minor": 0
      },
      "text/plain": [
       "Validation: |          | 0/? [00:00<?, ?it/s]"
      ]
     },
     "metadata": {},
     "output_type": "display_data"
    },
    {
     "data": {
      "application/vnd.jupyter.widget-view+json": {
       "model_id": "9bdeffa89ba6463ba1fbbb4a775b1417",
       "version_major": 2,
       "version_minor": 0
      },
      "text/plain": [
       "Validation: |          | 0/? [00:00<?, ?it/s]"
      ]
     },
     "metadata": {},
     "output_type": "display_data"
    },
    {
     "data": {
      "application/vnd.jupyter.widget-view+json": {
       "model_id": "5ec2d54a4a0b4e6fb500ad53849e233b",
       "version_major": 2,
       "version_minor": 0
      },
      "text/plain": [
       "Validation: |          | 0/? [00:00<?, ?it/s]"
      ]
     },
     "metadata": {},
     "output_type": "display_data"
    },
    {
     "name": "stderr",
     "output_type": "stream",
     "text": [
      "Metric acc improved by 0.017 >= min_delta = 0.0. New best score: 0.900\n"
     ]
    },
    {
     "data": {
      "application/vnd.jupyter.widget-view+json": {
       "model_id": "d0de5dbd4087485fabdb019c551dafa1",
       "version_major": 2,
       "version_minor": 0
      },
      "text/plain": [
       "Validation: |          | 0/? [00:00<?, ?it/s]"
      ]
     },
     "metadata": {},
     "output_type": "display_data"
    },
    {
     "data": {
      "application/vnd.jupyter.widget-view+json": {
       "model_id": "2a51fe3eb4494a72a19650ff8e6902aa",
       "version_major": 2,
       "version_minor": 0
      },
      "text/plain": [
       "Validation: |          | 0/? [00:00<?, ?it/s]"
      ]
     },
     "metadata": {},
     "output_type": "display_data"
    },
    {
     "data": {
      "application/vnd.jupyter.widget-view+json": {
       "model_id": "76a63b172d1344d5848c4cabe4c8f0a1",
       "version_major": 2,
       "version_minor": 0
      },
      "text/plain": [
       "Validation: |          | 0/? [00:00<?, ?it/s]"
      ]
     },
     "metadata": {},
     "output_type": "display_data"
    },
    {
     "data": {
      "application/vnd.jupyter.widget-view+json": {
       "model_id": "f5cbbdaa73204313bec349562357cdab",
       "version_major": 2,
       "version_minor": 0
      },
      "text/plain": [
       "Validation: |          | 0/? [00:00<?, ?it/s]"
      ]
     },
     "metadata": {},
     "output_type": "display_data"
    },
    {
     "name": "stderr",
     "output_type": "stream",
     "text": [
      "`Trainer.fit` stopped: `max_epochs=15` reached.\n"
     ]
    },
    {
     "name": "stdout",
     "output_type": "stream",
     "text": [
      "FOLD 1\n",
      "--------------------------------\n"
     ]
    },
    {
     "name": "stderr",
     "output_type": "stream",
     "text": [
      "GPU available: True (cuda), used: True\n",
      "TPU available: False, using: 0 TPU cores\n",
      "HPU available: False, using: 0 HPUs\n",
      "LOCAL_RANK: 0 - CUDA_VISIBLE_DEVICES: [0]\n",
      "\n",
      "  | Name  | Type       | Params | Mode \n",
      "---------------------------------------------\n",
      "0 | model | Sequential | 166 M  | train\n",
      "---------------------------------------------\n",
      "166 M     Trainable params\n",
      "0         Non-trainable params\n",
      "166 M     Total params\n",
      "667.458   Total estimated model params size (MB)\n"
     ]
    },
    {
     "data": {
      "application/vnd.jupyter.widget-view+json": {
       "model_id": "0b02418bb50a4ec9bf56c65bda6b8626",
       "version_major": 2,
       "version_minor": 0
      },
      "text/plain": [
       "Sanity Checking: |          | 0/? [00:00<?, ?it/s]"
      ]
     },
     "metadata": {},
     "output_type": "display_data"
    },
    {
     "data": {
      "application/vnd.jupyter.widget-view+json": {
       "model_id": "1f46ecdf662e42be92530e92177d6661",
       "version_major": 2,
       "version_minor": 0
      },
      "text/plain": [
       "Training: |          | 0/? [00:00<?, ?it/s]"
      ]
     },
     "metadata": {},
     "output_type": "display_data"
    },
    {
     "data": {
      "application/vnd.jupyter.widget-view+json": {
       "model_id": "e58f71b0be9244099902592d8cd30d94",
       "version_major": 2,
       "version_minor": 0
      },
      "text/plain": [
       "Validation: |          | 0/? [00:00<?, ?it/s]"
      ]
     },
     "metadata": {},
     "output_type": "display_data"
    },
    {
     "name": "stderr",
     "output_type": "stream",
     "text": [
      "Metric acc improved. New best score: 0.889\n"
     ]
    },
    {
     "data": {
      "application/vnd.jupyter.widget-view+json": {
       "model_id": "340285d8bb0c475d90df2a7c19f55e2c",
       "version_major": 2,
       "version_minor": 0
      },
      "text/plain": [
       "Validation: |          | 0/? [00:00<?, ?it/s]"
      ]
     },
     "metadata": {},
     "output_type": "display_data"
    },
    {
     "data": {
      "application/vnd.jupyter.widget-view+json": {
       "model_id": "6e1c756638b6499aadc89bc4d2ff51db",
       "version_major": 2,
       "version_minor": 0
      },
      "text/plain": [
       "Validation: |          | 0/? [00:00<?, ?it/s]"
      ]
     },
     "metadata": {},
     "output_type": "display_data"
    },
    {
     "data": {
      "application/vnd.jupyter.widget-view+json": {
       "model_id": "3948234ac7624d5eb33becb231c6cfa7",
       "version_major": 2,
       "version_minor": 0
      },
      "text/plain": [
       "Validation: |          | 0/? [00:00<?, ?it/s]"
      ]
     },
     "metadata": {},
     "output_type": "display_data"
    },
    {
     "data": {
      "application/vnd.jupyter.widget-view+json": {
       "model_id": "dc2ab074b2a643a0842d02fd1be05553",
       "version_major": 2,
       "version_minor": 0
      },
      "text/plain": [
       "Validation: |          | 0/? [00:00<?, ?it/s]"
      ]
     },
     "metadata": {},
     "output_type": "display_data"
    },
    {
     "data": {
      "application/vnd.jupyter.widget-view+json": {
       "model_id": "86c9496445f14286865523105cdea997",
       "version_major": 2,
       "version_minor": 0
      },
      "text/plain": [
       "Validation: |          | 0/? [00:00<?, ?it/s]"
      ]
     },
     "metadata": {},
     "output_type": "display_data"
    },
    {
     "name": "stderr",
     "output_type": "stream",
     "text": [
      "Metric acc improved by 0.010 >= min_delta = 0.0. New best score: 0.899\n"
     ]
    },
    {
     "data": {
      "application/vnd.jupyter.widget-view+json": {
       "model_id": "fe9faa6bed6e49e0b60ed94f7ef1ee6c",
       "version_major": 2,
       "version_minor": 0
      },
      "text/plain": [
       "Validation: |          | 0/? [00:00<?, ?it/s]"
      ]
     },
     "metadata": {},
     "output_type": "display_data"
    },
    {
     "data": {
      "application/vnd.jupyter.widget-view+json": {
       "model_id": "e5d7658ee35c4572a8ed965e7432cd63",
       "version_major": 2,
       "version_minor": 0
      },
      "text/plain": [
       "Validation: |          | 0/? [00:00<?, ?it/s]"
      ]
     },
     "metadata": {},
     "output_type": "display_data"
    },
    {
     "data": {
      "application/vnd.jupyter.widget-view+json": {
       "model_id": "617cc02de1cf4ac1ad6e1a7ed98d5f40",
       "version_major": 2,
       "version_minor": 0
      },
      "text/plain": [
       "Validation: |          | 0/? [00:00<?, ?it/s]"
      ]
     },
     "metadata": {},
     "output_type": "display_data"
    },
    {
     "data": {
      "application/vnd.jupyter.widget-view+json": {
       "model_id": "480973fd2c634f39907d99db6fe17f19",
       "version_major": 2,
       "version_minor": 0
      },
      "text/plain": [
       "Validation: |          | 0/? [00:00<?, ?it/s]"
      ]
     },
     "metadata": {},
     "output_type": "display_data"
    },
    {
     "data": {
      "application/vnd.jupyter.widget-view+json": {
       "model_id": "6fa5d1b92e524939a2cafec39fa079df",
       "version_major": 2,
       "version_minor": 0
      },
      "text/plain": [
       "Validation: |          | 0/? [00:00<?, ?it/s]"
      ]
     },
     "metadata": {},
     "output_type": "display_data"
    },
    {
     "name": "stderr",
     "output_type": "stream",
     "text": [
      "Metric acc improved by 0.005 >= min_delta = 0.0. New best score: 0.904\n"
     ]
    },
    {
     "data": {
      "application/vnd.jupyter.widget-view+json": {
       "model_id": "592dfcd07ed94b2ababd532138a57059",
       "version_major": 2,
       "version_minor": 0
      },
      "text/plain": [
       "Validation: |          | 0/? [00:00<?, ?it/s]"
      ]
     },
     "metadata": {},
     "output_type": "display_data"
    },
    {
     "data": {
      "application/vnd.jupyter.widget-view+json": {
       "model_id": "509e4f295072456a8a82df7a38286329",
       "version_major": 2,
       "version_minor": 0
      },
      "text/plain": [
       "Validation: |          | 0/? [00:00<?, ?it/s]"
      ]
     },
     "metadata": {},
     "output_type": "display_data"
    },
    {
     "data": {
      "application/vnd.jupyter.widget-view+json": {
       "model_id": "d2e31d4f0f184a1190e094cd58fc23e3",
       "version_major": 2,
       "version_minor": 0
      },
      "text/plain": [
       "Validation: |          | 0/? [00:00<?, ?it/s]"
      ]
     },
     "metadata": {},
     "output_type": "display_data"
    },
    {
     "name": "stderr",
     "output_type": "stream",
     "text": [
      "Metric acc improved by 0.001 >= min_delta = 0.0. New best score: 0.905\n"
     ]
    },
    {
     "data": {
      "application/vnd.jupyter.widget-view+json": {
       "model_id": "92d31f2334604ed987cc491aba99c91e",
       "version_major": 2,
       "version_minor": 0
      },
      "text/plain": [
       "Validation: |          | 0/? [00:00<?, ?it/s]"
      ]
     },
     "metadata": {},
     "output_type": "display_data"
    },
    {
     "name": "stderr",
     "output_type": "stream",
     "text": [
      "`Trainer.fit` stopped: `max_epochs=15` reached.\n"
     ]
    },
    {
     "name": "stdout",
     "output_type": "stream",
     "text": [
      "FOLD 2\n",
      "--------------------------------\n"
     ]
    },
    {
     "name": "stderr",
     "output_type": "stream",
     "text": [
      "GPU available: True (cuda), used: True\n",
      "TPU available: False, using: 0 TPU cores\n",
      "HPU available: False, using: 0 HPUs\n",
      "LOCAL_RANK: 0 - CUDA_VISIBLE_DEVICES: [0]\n",
      "\n",
      "  | Name  | Type       | Params | Mode \n",
      "---------------------------------------------\n",
      "0 | model | Sequential | 166 M  | train\n",
      "---------------------------------------------\n",
      "166 M     Trainable params\n",
      "0         Non-trainable params\n",
      "166 M     Total params\n",
      "667.458   Total estimated model params size (MB)\n"
     ]
    },
    {
     "data": {
      "application/vnd.jupyter.widget-view+json": {
       "model_id": "65db5a21bd8a4279959d02c478258542",
       "version_major": 2,
       "version_minor": 0
      },
      "text/plain": [
       "Sanity Checking: |          | 0/? [00:00<?, ?it/s]"
      ]
     },
     "metadata": {},
     "output_type": "display_data"
    },
    {
     "data": {
      "application/vnd.jupyter.widget-view+json": {
       "model_id": "b71b3ccf1371433f8f8b5ced1220e740",
       "version_major": 2,
       "version_minor": 0
      },
      "text/plain": [
       "Training: |          | 0/? [00:00<?, ?it/s]"
      ]
     },
     "metadata": {},
     "output_type": "display_data"
    },
    {
     "data": {
      "application/vnd.jupyter.widget-view+json": {
       "model_id": "f03afa440fb9475cad84a086b0369dd8",
       "version_major": 2,
       "version_minor": 0
      },
      "text/plain": [
       "Validation: |          | 0/? [00:00<?, ?it/s]"
      ]
     },
     "metadata": {},
     "output_type": "display_data"
    },
    {
     "name": "stderr",
     "output_type": "stream",
     "text": [
      "Metric acc improved. New best score: 0.885\n"
     ]
    },
    {
     "data": {
      "application/vnd.jupyter.widget-view+json": {
       "model_id": "eefd50172d494705803375b87818b9f0",
       "version_major": 2,
       "version_minor": 0
      },
      "text/plain": [
       "Validation: |          | 0/? [00:00<?, ?it/s]"
      ]
     },
     "metadata": {},
     "output_type": "display_data"
    },
    {
     "data": {
      "application/vnd.jupyter.widget-view+json": {
       "model_id": "71c5b240188c4410bc1bc670ea0f0015",
       "version_major": 2,
       "version_minor": 0
      },
      "text/plain": [
       "Validation: |          | 0/? [00:00<?, ?it/s]"
      ]
     },
     "metadata": {},
     "output_type": "display_data"
    },
    {
     "name": "stderr",
     "output_type": "stream",
     "text": [
      "Metric acc improved by 0.004 >= min_delta = 0.0. New best score: 0.889\n"
     ]
    },
    {
     "data": {
      "application/vnd.jupyter.widget-view+json": {
       "model_id": "656d97a3388342bd8059cb163893c634",
       "version_major": 2,
       "version_minor": 0
      },
      "text/plain": [
       "Validation: |          | 0/? [00:00<?, ?it/s]"
      ]
     },
     "metadata": {},
     "output_type": "display_data"
    },
    {
     "data": {
      "application/vnd.jupyter.widget-view+json": {
       "model_id": "a00cf48d36cf49a1be3c0a8c8b5eb86c",
       "version_major": 2,
       "version_minor": 0
      },
      "text/plain": [
       "Validation: |          | 0/? [00:00<?, ?it/s]"
      ]
     },
     "metadata": {},
     "output_type": "display_data"
    },
    {
     "data": {
      "application/vnd.jupyter.widget-view+json": {
       "model_id": "48780d91cd2548828e56c4616f050499",
       "version_major": 2,
       "version_minor": 0
      },
      "text/plain": [
       "Validation: |          | 0/? [00:00<?, ?it/s]"
      ]
     },
     "metadata": {},
     "output_type": "display_data"
    },
    {
     "data": {
      "application/vnd.jupyter.widget-view+json": {
       "model_id": "da4e2f36d8674f889f00b8c46266653f",
       "version_major": 2,
       "version_minor": 0
      },
      "text/plain": [
       "Validation: |          | 0/? [00:00<?, ?it/s]"
      ]
     },
     "metadata": {},
     "output_type": "display_data"
    },
    {
     "data": {
      "application/vnd.jupyter.widget-view+json": {
       "model_id": "d1c521d80d9b4032b37424defcdd170c",
       "version_major": 2,
       "version_minor": 0
      },
      "text/plain": [
       "Validation: |          | 0/? [00:00<?, ?it/s]"
      ]
     },
     "metadata": {},
     "output_type": "display_data"
    },
    {
     "name": "stderr",
     "output_type": "stream",
     "text": [
      "Monitored metric acc did not improve in the last 5 records. Best score: 0.889. Signaling Trainer to stop.\n"
     ]
    },
    {
     "name": "stdout",
     "output_type": "stream",
     "text": [
      "FOLD 3\n",
      "--------------------------------\n"
     ]
    },
    {
     "name": "stderr",
     "output_type": "stream",
     "text": [
      "GPU available: True (cuda), used: True\n",
      "TPU available: False, using: 0 TPU cores\n",
      "HPU available: False, using: 0 HPUs\n",
      "LOCAL_RANK: 0 - CUDA_VISIBLE_DEVICES: [0]\n",
      "\n",
      "  | Name  | Type       | Params | Mode \n",
      "---------------------------------------------\n",
      "0 | model | Sequential | 166 M  | train\n",
      "---------------------------------------------\n",
      "166 M     Trainable params\n",
      "0         Non-trainable params\n",
      "166 M     Total params\n",
      "667.458   Total estimated model params size (MB)\n"
     ]
    },
    {
     "data": {
      "application/vnd.jupyter.widget-view+json": {
       "model_id": "9f6131b3c1184fd0b49668daf062d324",
       "version_major": 2,
       "version_minor": 0
      },
      "text/plain": [
       "Sanity Checking: |          | 0/? [00:00<?, ?it/s]"
      ]
     },
     "metadata": {},
     "output_type": "display_data"
    },
    {
     "data": {
      "application/vnd.jupyter.widget-view+json": {
       "model_id": "c92b7deb214f4989803834f8160ecb68",
       "version_major": 2,
       "version_minor": 0
      },
      "text/plain": [
       "Training: |          | 0/? [00:00<?, ?it/s]"
      ]
     },
     "metadata": {},
     "output_type": "display_data"
    },
    {
     "data": {
      "application/vnd.jupyter.widget-view+json": {
       "model_id": "36ca9235039b4c86921d295d7f266054",
       "version_major": 2,
       "version_minor": 0
      },
      "text/plain": [
       "Validation: |          | 0/? [00:00<?, ?it/s]"
      ]
     },
     "metadata": {},
     "output_type": "display_data"
    },
    {
     "name": "stderr",
     "output_type": "stream",
     "text": [
      "Metric acc improved. New best score: 0.884\n"
     ]
    },
    {
     "data": {
      "application/vnd.jupyter.widget-view+json": {
       "model_id": "1231ff20395840f3b9bee8d969b3d7f4",
       "version_major": 2,
       "version_minor": 0
      },
      "text/plain": [
       "Validation: |          | 0/? [00:00<?, ?it/s]"
      ]
     },
     "metadata": {},
     "output_type": "display_data"
    },
    {
     "name": "stderr",
     "output_type": "stream",
     "text": [
      "Metric acc improved by 0.003 >= min_delta = 0.0. New best score: 0.887\n"
     ]
    },
    {
     "data": {
      "application/vnd.jupyter.widget-view+json": {
       "model_id": "f34cdbebb4bf4c4589cd439759f51709",
       "version_major": 2,
       "version_minor": 0
      },
      "text/plain": [
       "Validation: |          | 0/? [00:00<?, ?it/s]"
      ]
     },
     "metadata": {},
     "output_type": "display_data"
    },
    {
     "name": "stderr",
     "output_type": "stream",
     "text": [
      "Metric acc improved by 0.005 >= min_delta = 0.0. New best score: 0.892\n"
     ]
    },
    {
     "data": {
      "application/vnd.jupyter.widget-view+json": {
       "model_id": "eb861327a9f14a29aeec333243060a90",
       "version_major": 2,
       "version_minor": 0
      },
      "text/plain": [
       "Validation: |          | 0/? [00:00<?, ?it/s]"
      ]
     },
     "metadata": {},
     "output_type": "display_data"
    },
    {
     "data": {
      "application/vnd.jupyter.widget-view+json": {
       "model_id": "2c9bef8c7d944a42bbd69a2266a7e38b",
       "version_major": 2,
       "version_minor": 0
      },
      "text/plain": [
       "Validation: |          | 0/? [00:00<?, ?it/s]"
      ]
     },
     "metadata": {},
     "output_type": "display_data"
    },
    {
     "data": {
      "application/vnd.jupyter.widget-view+json": {
       "model_id": "8fc3a919034844d2abcdb2840e9bf51b",
       "version_major": 2,
       "version_minor": 0
      },
      "text/plain": [
       "Validation: |          | 0/? [00:00<?, ?it/s]"
      ]
     },
     "metadata": {},
     "output_type": "display_data"
    },
    {
     "data": {
      "application/vnd.jupyter.widget-view+json": {
       "model_id": "0fe130043fc04c58b56343d4a20ba020",
       "version_major": 2,
       "version_minor": 0
      },
      "text/plain": [
       "Validation: |          | 0/? [00:00<?, ?it/s]"
      ]
     },
     "metadata": {},
     "output_type": "display_data"
    },
    {
     "data": {
      "application/vnd.jupyter.widget-view+json": {
       "model_id": "2a665b9bbd014108bb2ef28225362933",
       "version_major": 2,
       "version_minor": 0
      },
      "text/plain": [
       "Validation: |          | 0/? [00:00<?, ?it/s]"
      ]
     },
     "metadata": {},
     "output_type": "display_data"
    },
    {
     "name": "stderr",
     "output_type": "stream",
     "text": [
      "Monitored metric acc did not improve in the last 5 records. Best score: 0.892. Signaling Trainer to stop.\n"
     ]
    },
    {
     "name": "stdout",
     "output_type": "stream",
     "text": [
      "FOLD 4\n",
      "--------------------------------\n"
     ]
    },
    {
     "name": "stderr",
     "output_type": "stream",
     "text": [
      "GPU available: True (cuda), used: True\n",
      "TPU available: False, using: 0 TPU cores\n",
      "HPU available: False, using: 0 HPUs\n",
      "LOCAL_RANK: 0 - CUDA_VISIBLE_DEVICES: [0]\n",
      "\n",
      "  | Name  | Type       | Params | Mode \n",
      "---------------------------------------------\n",
      "0 | model | Sequential | 166 M  | train\n",
      "---------------------------------------------\n",
      "166 M     Trainable params\n",
      "0         Non-trainable params\n",
      "166 M     Total params\n",
      "667.458   Total estimated model params size (MB)\n"
     ]
    },
    {
     "data": {
      "application/vnd.jupyter.widget-view+json": {
       "model_id": "daeecf6fc17b4a5087c15edfc073b255",
       "version_major": 2,
       "version_minor": 0
      },
      "text/plain": [
       "Sanity Checking: |          | 0/? [00:00<?, ?it/s]"
      ]
     },
     "metadata": {},
     "output_type": "display_data"
    },
    {
     "data": {
      "application/vnd.jupyter.widget-view+json": {
       "model_id": "b179910b1400455fb67d92b68b449e1a",
       "version_major": 2,
       "version_minor": 0
      },
      "text/plain": [
       "Training: |          | 0/? [00:00<?, ?it/s]"
      ]
     },
     "metadata": {},
     "output_type": "display_data"
    },
    {
     "data": {
      "application/vnd.jupyter.widget-view+json": {
       "model_id": "91d6ed68e97e45859c3cbfe4f5898eaf",
       "version_major": 2,
       "version_minor": 0
      },
      "text/plain": [
       "Validation: |          | 0/? [00:00<?, ?it/s]"
      ]
     },
     "metadata": {},
     "output_type": "display_data"
    },
    {
     "name": "stderr",
     "output_type": "stream",
     "text": [
      "Metric acc improved. New best score: 0.660\n"
     ]
    },
    {
     "data": {
      "application/vnd.jupyter.widget-view+json": {
       "model_id": "c30199992bd24855a633812d174367a2",
       "version_major": 2,
       "version_minor": 0
      },
      "text/plain": [
       "Validation: |          | 0/? [00:00<?, ?it/s]"
      ]
     },
     "metadata": {},
     "output_type": "display_data"
    },
    {
     "name": "stderr",
     "output_type": "stream",
     "text": [
      "Metric acc improved by 0.217 >= min_delta = 0.0. New best score: 0.877\n"
     ]
    },
    {
     "data": {
      "application/vnd.jupyter.widget-view+json": {
       "model_id": "0db63ceb11c24522b54caa52d238d595",
       "version_major": 2,
       "version_minor": 0
      },
      "text/plain": [
       "Validation: |          | 0/? [00:00<?, ?it/s]"
      ]
     },
     "metadata": {},
     "output_type": "display_data"
    },
    {
     "data": {
      "application/vnd.jupyter.widget-view+json": {
       "model_id": "d242c670e048495e9c4e63c49101a5d3",
       "version_major": 2,
       "version_minor": 0
      },
      "text/plain": [
       "Validation: |          | 0/? [00:00<?, ?it/s]"
      ]
     },
     "metadata": {},
     "output_type": "display_data"
    },
    {
     "data": {
      "application/vnd.jupyter.widget-view+json": {
       "model_id": "e2b5ea7c7d4847328574a6ffe8bf9802",
       "version_major": 2,
       "version_minor": 0
      },
      "text/plain": [
       "Validation: |          | 0/? [00:00<?, ?it/s]"
      ]
     },
     "metadata": {},
     "output_type": "display_data"
    },
    {
     "data": {
      "application/vnd.jupyter.widget-view+json": {
       "model_id": "5f0c659b9f5541a086722316dc9efd5b",
       "version_major": 2,
       "version_minor": 0
      },
      "text/plain": [
       "Validation: |          | 0/? [00:00<?, ?it/s]"
      ]
     },
     "metadata": {},
     "output_type": "display_data"
    },
    {
     "name": "stderr",
     "output_type": "stream",
     "text": [
      "Metric acc improved by 0.007 >= min_delta = 0.0. New best score: 0.884\n"
     ]
    },
    {
     "data": {
      "application/vnd.jupyter.widget-view+json": {
       "model_id": "a9d16437c12d4123b2e6c941b6326c70",
       "version_major": 2,
       "version_minor": 0
      },
      "text/plain": [
       "Validation: |          | 0/? [00:00<?, ?it/s]"
      ]
     },
     "metadata": {},
     "output_type": "display_data"
    },
    {
     "data": {
      "application/vnd.jupyter.widget-view+json": {
       "model_id": "6aa5c9c5084c46fab5babd43ad8142b0",
       "version_major": 2,
       "version_minor": 0
      },
      "text/plain": [
       "Validation: |          | 0/? [00:00<?, ?it/s]"
      ]
     },
     "metadata": {},
     "output_type": "display_data"
    },
    {
     "data": {
      "application/vnd.jupyter.widget-view+json": {
       "model_id": "58e86ff393444d8b8a5779d173638e0d",
       "version_major": 2,
       "version_minor": 0
      },
      "text/plain": [
       "Validation: |          | 0/? [00:00<?, ?it/s]"
      ]
     },
     "metadata": {},
     "output_type": "display_data"
    },
    {
     "data": {
      "application/vnd.jupyter.widget-view+json": {
       "model_id": "6b00ce45259c479a97854bf28c18a747",
       "version_major": 2,
       "version_minor": 0
      },
      "text/plain": [
       "Validation: |          | 0/? [00:00<?, ?it/s]"
      ]
     },
     "metadata": {},
     "output_type": "display_data"
    },
    {
     "data": {
      "application/vnd.jupyter.widget-view+json": {
       "model_id": "eb479150d041429fa1a4fe7ba8a5a1f9",
       "version_major": 2,
       "version_minor": 0
      },
      "text/plain": [
       "Validation: |          | 0/? [00:00<?, ?it/s]"
      ]
     },
     "metadata": {},
     "output_type": "display_data"
    },
    {
     "name": "stderr",
     "output_type": "stream",
     "text": [
      "Metric acc improved by 0.010 >= min_delta = 0.0. New best score: 0.894\n"
     ]
    },
    {
     "data": {
      "application/vnd.jupyter.widget-view+json": {
       "model_id": "ef2e4dc55d35473d9b15b404ca68c089",
       "version_major": 2,
       "version_minor": 0
      },
      "text/plain": [
       "Validation: |          | 0/? [00:00<?, ?it/s]"
      ]
     },
     "metadata": {},
     "output_type": "display_data"
    },
    {
     "data": {
      "application/vnd.jupyter.widget-view+json": {
       "model_id": "2db4ac9c13504a06adae03a427d51a24",
       "version_major": 2,
       "version_minor": 0
      },
      "text/plain": [
       "Validation: |          | 0/? [00:00<?, ?it/s]"
      ]
     },
     "metadata": {},
     "output_type": "display_data"
    },
    {
     "data": {
      "application/vnd.jupyter.widget-view+json": {
       "model_id": "5f55fdba87eb4e32a8f11e862a4043f9",
       "version_major": 2,
       "version_minor": 0
      },
      "text/plain": [
       "Validation: |          | 0/? [00:00<?, ?it/s]"
      ]
     },
     "metadata": {},
     "output_type": "display_data"
    },
    {
     "data": {
      "application/vnd.jupyter.widget-view+json": {
       "model_id": "7736aaea6c644543a008467d07862f19",
       "version_major": 2,
       "version_minor": 0
      },
      "text/plain": [
       "Validation: |          | 0/? [00:00<?, ?it/s]"
      ]
     },
     "metadata": {},
     "output_type": "display_data"
    },
    {
     "name": "stderr",
     "output_type": "stream",
     "text": [
      "`Trainer.fit` stopped: `max_epochs=15` reached.\n"
     ]
    }
   ],
   "source": [
    "for i in range(len(reg_folds)):\n",
    "    print(f'FOLD {i}')\n",
    "    print('--------------------------------')\n",
    "    L.pytorch.utilities.memory.garbage_collection_cuda()\n",
    "    \n",
    "    # Prepare the training and validation datasets\n",
    "    val_dataset = reg_folds[i]\n",
    "    train_datasets = [reg_folds[j] for j in range(len(reg_folds)) if j != i]\n",
    "    \n",
    "    # Combine training datasets\n",
    "    train_dataset = torch.utils.data.ConcatDataset(train_datasets)\n",
    "    \n",
    "    # Define data loaders\n",
    "    train_loader = torch.utils.data.DataLoader(train_dataset, batch_size=32, shuffle=True, num_workers=4)\n",
    "    val_loader = torch.utils.data.DataLoader(val_dataset, batch_size=32, num_workers=4)\n",
    "\n",
    "    # Initialize model\n",
    "    model = REGCNN()\n",
    "\n",
    "    early_stopping = EarlyStopping(\n",
    "        monitor='acc',\n",
    "        patience=5,\n",
    "        verbose=True,\n",
    "        mode='max'\n",
    "    )\n",
    "\n",
    "    checkpoint_callback = ModelCheckpoint(\n",
    "        monitor='acc',       # Metric to monitor\n",
    "        dirpath='REGCNN/',       # Directory to save the model checkpoints\n",
    "        filename=f'best-reg-{i}.pt', # Name of the saved model file\n",
    "        save_top_k=1,             # Save only the top 1 model\n",
    "        mode='max'                # Mode for the monitored metric ('min' for loss, 'max' for accuracy)\n",
    "    )\n",
    "    logger = TensorBoardLogger('tb_logs', name='NLL_HET_std_pen')\n",
    "    trainer = L.Trainer(max_epochs=15, accelerator='auto', strategy='auto', callbacks=[early_stopping, checkpoint_callback], logger=logger)\n",
    "    trainer.fit(model, train_loader, val_loader)"
   ]
  },
  {
   "cell_type": "markdown",
   "metadata": {},
   "source": [
    "## Training & Validation"
   ]
  },
  {
   "cell_type": "code",
   "execution_count": 70,
   "metadata": {},
   "outputs": [],
   "source": [
    "model = REGCNN.load_from_checkpoint('/workspace/SeizureSense/REGCNN/best-reg-1.pt-v1.ckpt')"
   ]
  },
  {
   "cell_type": "code",
   "execution_count": 72,
   "metadata": {},
   "outputs": [
    {
     "name": "stdout",
     "output_type": "stream",
     "text": [
      "tensor([[   4.6876, 1621.0851,  -90.2948]], device='cuda:0',\n",
      "       grad_fn=<AddmmBackward0>)\n",
      "0.990875244140625\n",
      "95%: 24.008258819580078 30.027912139892578\n",
      "Center 27.018085479736328\n",
      "12.733333333333333\n"
     ]
    }
   ],
   "source": [
    "# Seeing how individual examples fair\n",
    "idx = 43\n",
    "pred = model.model.to(device)(torch.Tensor(test_regression_data[idx][0]).unsqueeze(0))\n",
    "print(pred)\n",
    "print(torch.sigmoid(pred[0, 0]).item())\n",
    "print(f\"95%: {(pred[0, 1] - torch.abs(pred[0, 2]) * 2) / 60} {(pred[0, 1] + torch.abs(pred[0, 2]) * 2) / 60}\")\n",
    "print(f\"Center {(pred[0, 1]) / 60}\")\n",
    "print((test_regression_data[idx][1] / 60))\n"
   ]
  },
  {
   "cell_type": "code",
   "execution_count": 88,
   "metadata": {},
   "outputs": [
    {
     "name": "stdout",
     "output_type": "stream",
     "text": [
      "tensor(0.8438, device='cuda:0')\n",
      "tensor(0.8125, device='cuda:0')\n",
      "tensor(0.8438, device='cuda:0')\n",
      "tensor(0.8750, device='cuda:0')\n",
      "tensor(0.8438, device='cuda:0')\n",
      "tensor(0.9375, device='cuda:0')\n",
      "tensor(0.9688, device='cuda:0')\n",
      "tensor(0.9062, device='cuda:0')\n",
      "tensor(0.9375, device='cuda:0')\n",
      "tensor(0.9062, device='cuda:0')\n",
      "tensor(0.8750, device='cuda:0')\n",
      "tensor(0.9375, device='cuda:0')\n",
      "tensor(0.9062, device='cuda:0')\n",
      "tensor(0.8750, device='cuda:0')\n",
      "tensor(0.9375, device='cuda:0')\n",
      "tensor(0.7812, device='cuda:0')\n",
      "tensor(0.8438, device='cuda:0')\n",
      "tensor(0.8750, device='cuda:0')\n",
      "tensor(0.8750, device='cuda:0')\n",
      "tensor(0.8750, device='cuda:0')\n",
      "tensor(0.8125, device='cuda:0')\n",
      "tensor(0.9062, device='cuda:0')\n",
      "tensor(0.8750, device='cuda:0')\n",
      "tensor(0.9062, device='cuda:0')\n",
      "tensor(0.8438, device='cuda:0')\n",
      "tensor(0.8750, device='cuda:0')\n",
      "tensor(0.8750, device='cuda:0')\n",
      "tensor(0.9062, device='cuda:0')\n",
      "tensor(0.8125, device='cuda:0')\n",
      "tensor(0.9688, device='cuda:0')\n",
      "tensor(0.8438, device='cuda:0')\n",
      "tensor(0.9062, device='cuda:0')\n",
      "tensor(0.8750, device='cuda:0')\n",
      "tensor(0.8438, device='cuda:0')\n",
      "tensor(0.9062, device='cuda:0')\n",
      "tensor(0.9062, device='cuda:0')\n",
      "tensor(0.9062, device='cuda:0')\n",
      "tensor(0.8125, device='cuda:0')\n",
      "tensor(0.9688, device='cuda:0')\n",
      "tensor(0.8750, device='cuda:0')\n",
      "tensor(0.8125, device='cuda:0')\n",
      "tensor(0.9375, device='cuda:0')\n",
      "tensor(0.8750, device='cuda:0')\n",
      "tensor(0.9062, device='cuda:0')\n",
      "tensor(0.9688, device='cuda:0')\n",
      "tensor(0.8750, device='cuda:0')\n",
      "tensor(0.9062, device='cuda:0')\n",
      "tensor(0.9375, device='cuda:0')\n",
      "tensor(0.9375, device='cuda:0')\n",
      "tensor(0.9062, device='cuda:0')\n",
      "tensor(0.9062, device='cuda:0')\n",
      "tensor(0.8438, device='cuda:0')\n",
      "tensor(0.8750, device='cuda:0')\n",
      "tensor(0.9062, device='cuda:0')\n",
      "tensor(0.8182, device='cuda:0')\n"
     ]
    },
    {
     "data": {
      "text/plain": [
       "tensor(0.8861, device='cuda:0')"
      ]
     },
     "execution_count": 88,
     "metadata": {},
     "output_type": "execute_result"
    }
   ],
   "source": [
    "\n",
    "acc = torchmetrics.classification.Accuracy(task='binary',).to(device)\n",
    "for data, label in test_dataloader:\n",
    "  pred = torch.sigmoid(model.model(data)[..., 0])\n",
    "  zero = (label == float('inf'))\n",
    "  label[zero] = 0\n",
    "  label[~zero] = 1\n",
    "  acc(pred.to(device), label.to(device))\n",
    "acc.compute()"
   ]
  },
  {
   "cell_type": "code",
   "execution_count": 94,
   "metadata": {},
   "outputs": [
    {
     "name": "stderr",
     "output_type": "stream",
     "text": [
      "/opt/conda/envs/ss/lib/python3.12/site-packages/torchmetrics/utilities/prints.py:43: UserWarning: No positive samples found in target, recall is undefined. Setting recall to one for all thresholds.\n",
      "  warnings.warn(*args, **kwargs)  # noqa: B028\n"
     ]
    },
    {
     "data": {
      "text/plain": [
       "tensor(0.7459, device='cuda:0')"
      ]
     },
     "execution_count": 94,
     "metadata": {},
     "output_type": "execute_result"
    }
   ],
   "source": [
    "auprc = torchmetrics.classification.AveragePrecision(task='binary',).to(device)\n",
    "for data, label in test_dataloader:\n",
    "  pred = torch.sigmoid(model.model(data)[..., 0])\n",
    "  zero = (label == float('inf'))\n",
    "  label[zero] = 0\n",
    "  label[~zero] = 1\n",
    "  auprc(pred.to(device), label.to(device).long())\n",
    "auprc.compute()"
   ]
  },
  {
   "cell_type": "code",
   "execution_count": 14,
   "metadata": {},
   "outputs": [
    {
     "name": "stdout",
     "output_type": "stream",
     "text": [
      "tensor([[ 1.1413e+00,  1.2400e+03, -1.0318e+03]], device='cuda:0',\n",
      "       grad_fn=<AddmmBackward0>)\n",
      "0.757921576499939\n",
      "95%: 208.22607421875 2271.85986328125\n"
     ]
    },
    {
     "ename": "NameError",
     "evalue": "name 'norm' is not defined",
     "output_type": "error",
     "traceback": [
      "\u001b[0;31m---------------------------------------------------------------------------\u001b[0m",
      "\u001b[0;31mNameError\u001b[0m                                 Traceback (most recent call last)",
      "Cell \u001b[0;32mIn[14], line 7\u001b[0m\n\u001b[1;32m      5\u001b[0m \u001b[38;5;28mprint\u001b[39m(torch\u001b[38;5;241m.\u001b[39msigmoid(pred[\u001b[38;5;241m0\u001b[39m, \u001b[38;5;241m0\u001b[39m])\u001b[38;5;241m.\u001b[39mitem())\n\u001b[1;32m      6\u001b[0m \u001b[38;5;28mprint\u001b[39m(\u001b[38;5;124mf\u001b[39m\u001b[38;5;124m\"\u001b[39m\u001b[38;5;124m95%: \u001b[39m\u001b[38;5;132;01m{\u001b[39;00mpred[\u001b[38;5;241m0\u001b[39m,\u001b[38;5;250m \u001b[39m\u001b[38;5;241m1\u001b[39m]\u001b[38;5;250m \u001b[39m\u001b[38;5;241m-\u001b[39m\u001b[38;5;250m \u001b[39mtorch\u001b[38;5;241m.\u001b[39mabs(pred[\u001b[38;5;241m0\u001b[39m,\u001b[38;5;250m \u001b[39m\u001b[38;5;241m2\u001b[39m])\u001b[38;5;132;01m}\u001b[39;00m\u001b[38;5;124m \u001b[39m\u001b[38;5;132;01m{\u001b[39;00mpred[\u001b[38;5;241m0\u001b[39m,\u001b[38;5;250m \u001b[39m\u001b[38;5;241m1\u001b[39m]\u001b[38;5;250m \u001b[39m\u001b[38;5;241m+\u001b[39m\u001b[38;5;250m \u001b[39mtorch\u001b[38;5;241m.\u001b[39mabs(pred[\u001b[38;5;241m0\u001b[39m,\u001b[38;5;250m \u001b[39m\u001b[38;5;241m2\u001b[39m])\u001b[38;5;132;01m}\u001b[39;00m\u001b[38;5;124m\"\u001b[39m)\n\u001b[0;32m----> 7\u001b[0m \u001b[38;5;28mprint\u001b[39m(\u001b[38;5;124mf\u001b[39m\u001b[38;5;124m\"\u001b[39m\u001b[38;5;124m95%: \u001b[39m\u001b[38;5;132;01m{\u001b[39;00m((pred[\u001b[38;5;241m0\u001b[39m,\u001b[38;5;250m \u001b[39m\u001b[38;5;241m1\u001b[39m]\u001b[38;5;250m \u001b[39m\u001b[38;5;241m-\u001b[39m\u001b[38;5;250m \u001b[39mtorch\u001b[38;5;241m.\u001b[39mabs(pred[\u001b[38;5;241m0\u001b[39m,\u001b[38;5;250m \u001b[39m\u001b[38;5;241m2\u001b[39m])\u001b[38;5;250m \u001b[39m\u001b[38;5;241m*\u001b[39m\u001b[38;5;250m \u001b[39m\u001b[38;5;241m2\u001b[39m)\u001b[38;5;250m \u001b[39m\u001b[38;5;241m*\u001b[39m\u001b[38;5;250m \u001b[39m\u001b[43mnorm\u001b[49m[\u001b[38;5;241m1\u001b[39m]\u001b[38;5;250m \u001b[39m\u001b[38;5;241m+\u001b[39m\u001b[38;5;250m \u001b[39mnorm[\u001b[38;5;241m0\u001b[39m])\u001b[38;5;250m \u001b[39m\u001b[38;5;241m/\u001b[39m\u001b[38;5;250m \u001b[39m\u001b[38;5;241m60\u001b[39m\u001b[38;5;132;01m}\u001b[39;00m\u001b[38;5;124m \u001b[39m\u001b[38;5;132;01m{\u001b[39;00m((pred[\u001b[38;5;241m0\u001b[39m,\u001b[38;5;250m \u001b[39m\u001b[38;5;241m1\u001b[39m]\u001b[38;5;250m \u001b[39m\u001b[38;5;241m+\u001b[39m\u001b[38;5;250m \u001b[39mtorch\u001b[38;5;241m.\u001b[39mabs(pred[\u001b[38;5;241m0\u001b[39m,\u001b[38;5;250m \u001b[39m\u001b[38;5;241m2\u001b[39m])\u001b[38;5;250m \u001b[39m\u001b[38;5;241m*\u001b[39m\u001b[38;5;250m \u001b[39m\u001b[38;5;241m2\u001b[39m)\u001b[38;5;250m \u001b[39m\u001b[38;5;241m*\u001b[39m\u001b[38;5;250m \u001b[39mnorm[\u001b[38;5;241m1\u001b[39m]\u001b[38;5;250m \u001b[39m\u001b[38;5;241m+\u001b[39m\u001b[38;5;250m \u001b[39mnorm[\u001b[38;5;241m0\u001b[39m])\u001b[38;5;250m \u001b[39m\u001b[38;5;241m/\u001b[39m\u001b[38;5;250m \u001b[39m\u001b[38;5;241m60\u001b[39m\u001b[38;5;132;01m}\u001b[39;00m\u001b[38;5;124m\"\u001b[39m)\n\u001b[1;32m      8\u001b[0m \u001b[38;5;28mprint\u001b[39m(\u001b[38;5;124mf\u001b[39m\u001b[38;5;124m\"\u001b[39m\u001b[38;5;124mCenter \u001b[39m\u001b[38;5;132;01m{\u001b[39;00m(pred[\u001b[38;5;241m0\u001b[39m,\u001b[38;5;250m \u001b[39m\u001b[38;5;241m1\u001b[39m]\u001b[38;5;250m \u001b[39m\u001b[38;5;241m*\u001b[39m\u001b[38;5;250m \u001b[39mnorm[\u001b[38;5;241m1\u001b[39m]\u001b[38;5;250m \u001b[39m\u001b[38;5;241m+\u001b[39m\u001b[38;5;250m \u001b[39mnorm[\u001b[38;5;241m0\u001b[39m])\u001b[38;5;250m \u001b[39m\u001b[38;5;241m/\u001b[39m\u001b[38;5;250m \u001b[39m\u001b[38;5;241m60\u001b[39m\u001b[38;5;132;01m}\u001b[39;00m\u001b[38;5;124m\"\u001b[39m)\n\u001b[1;32m      9\u001b[0m \u001b[38;5;28mprint\u001b[39m((regression_data[idx][\u001b[38;5;241m1\u001b[39m] \u001b[38;5;241m-\u001b[39m norm[\u001b[38;5;241m0\u001b[39m]) \u001b[38;5;241m/\u001b[39m norm[\u001b[38;5;241m1\u001b[39m], (regression_data[idx][\u001b[38;5;241m1\u001b[39m] \u001b[38;5;241m/\u001b[39m \u001b[38;5;241m60\u001b[39m))\n",
      "\u001b[0;31mNameError\u001b[0m: name 'norm' is not defined"
     ]
    }
   ],
   "source": [
    "# Seeing how individual examples fair\n",
    "idx = 500\n",
    "pred = model.model.to(device)(torch.Tensor(regression_data[idx][0]).unsqueeze(0))\n",
    "print(pred)\n",
    "print(torch.sigmoid(pred[0, 0]).item())\n",
    "print(f\"95%: {pred[0, 1] - torch.abs(pred[0, 2])} {pred[0, 1] + torch.abs(pred[0, 2])}\")\n",
    "print(f\"95%: {((pred[0, 1] - torch.abs(pred[0, 2]) * 2) * norm[1] + norm[0]) / 60} {((pred[0, 1] + torch.abs(pred[0, 2]) * 2) * norm[1] + norm[0]) / 60}\")\n",
    "print(f\"Center {(pred[0, 1] * norm[1] + norm[0]) / 60}\")\n",
    "print((regression_data[idx][1] - norm[0]) / norm[1], (regression_data[idx][1] / 60))\n"
   ]
  },
  {
   "cell_type": "code",
   "execution_count": 34,
   "metadata": {},
   "outputs": [
    {
     "data": {
      "text/plain": [
       "32.57749437398275"
      ]
     },
     "execution_count": 34,
     "metadata": {},
     "output_type": "execute_result"
    }
   ],
   "source": [
    "(0.2082 +  * norm[1] + norm[0]) / 60"
   ]
  },
  {
   "cell_type": "code",
   "execution_count": 46,
   "metadata": {},
   "outputs": [
    {
     "data": {
      "application/vnd.jupyter.widget-view+json": {
       "model_id": "",
       "version_major": 2,
       "version_minor": 0
      },
      "text/plain": [
       "  0%|          | 0/47 [00:00<?, ?it/s]"
      ]
     },
     "metadata": {},
     "output_type": "display_data"
    },
    {
     "name": "stdout",
     "output_type": "stream",
     "text": [
      "0 1161 0 231\n",
      "Sensitivity: 0.0\n",
      "Specificity: 1.0\n",
      "Accuracy: 0.834051724137931\n",
      "FPR/h 0.0\n"
     ]
    }
   ],
   "source": [
    "#Seeing a summary on test data\n",
    "TP, TN, FP, FN = validate_binary_sigmoid(REGCNN, val_dataloader, device=device)\n",
    "print(TP, TN, FP, FN)\n",
    "print(f\"Sensitivity: {TP / (TP + FN)}\")\n",
    "print(f\"Specificity: {TN / (TN + FP)}\")\n",
    "print(f\"Accuracy: {(TP + TN) / (TP + FP + TN + FN)}\")\n",
    "print(f\"FPR/h {FP / (FP + TN) / (1 / 6)}\")"
   ]
  },
  {
   "cell_type": "code",
   "execution_count": 38,
   "metadata": {},
   "outputs": [
    {
     "data": {
      "image/png": "[encoded data removed]",
      "text/plain": [
       "<Figure size 640x480 with 1 Axes>"
      ]
     },
     "metadata": {},
     "output_type": "display_data"
    }
   ],
   "source": [
    "@torch.inference_mode()\n",
    "def plot_calibration():\n",
    "  n = torch.distributions.normal.Normal(0, 1)\n",
    "  ans = []\n",
    "  for p in torch.linspace(0, .99, 20):\n",
    "    z = n.icdf(p + (1 - p) / 2).item()\n",
    "    cnt = 0\n",
    "    for data, label in ronly_data:\n",
    "      d = torch.Tensor(data).unsqueeze(0)\n",
    "      l = (label.item() - norm[0]) / norm[1]\n",
    "      mean, std = REGCNN(d)[0, 1:]\n",
    "      if l >= mean.item() - std.abs().item() * z and l <= mean.item() + std.abs().item() * z:\n",
    "        cnt+=1\n",
    "\n",
    "    cnt/=len(ronly_data)\n",
    "    ans.append(cnt)\n",
    "\n",
    "  plt.plot(np.linspace(0, .99, 20), ans)\n",
    "  plt.plot([0, 1], [0, 1])\n",
    "  plt.show()    \n",
    "\n",
    "plot_calibration()"
   ]
  },
  {
   "cell_type": "markdown",
   "metadata": {
    "jp-MarkdownHeadingCollapsed": true
   },
   "source": [
    "# Multi-Head Hetroscedastic"
   ]
  },
  {
   "cell_type": "markdown",
   "metadata": {},
   "source": [
    "## Models and Data Init."
   ]
  },
  {
   "cell_type": "code",
   "execution_count": 141,
   "metadata": {},
   "outputs": [],
   "source": [
    "class MultHeadCNN(L.LightningModule):\n",
    "  def __init__(self):\n",
    "    super().__init__()\n",
    "    self.feature_extract = torch.nn.Sequential(\n",
    "    STFT(10 * 256, 10 * 256, device=device),\n",
    "      torch.nn.Conv2d(23, 126, (3, 3)),\n",
    "      torch.nn.ReLU(),\n",
    "      torch.nn.MaxPool2d((2, 2)),\n",
    "      torch.nn.Conv2d(126, 64, (3, 3)),\n",
    "      torch.nn.ReLU(),\n",
    "      torch.nn.MaxPool2d((2, 2)),\n",
    "      torch.nn.Conv2d(64, 64, (3, 3)),\n",
    "      torch.nn.ReLU(),\n",
    "      torch.nn.MaxPool2d((2, 2)),\n",
    "      torch.nn.Flatten(),\n",
    "      torch.nn.Linear(40448, 4096),\n",
    "      torch.nn.ReLU(),\n",
    "    )\n",
    "    self.classifcation_head = torch.nn.Sequential(\n",
    "      torch.nn.Linear(4096, 256),\n",
    "      torch.nn.ReLU(),\n",
    "      torch.nn.Linear(256, 2),\n",
    "    )\n",
    "    self.regression_head = torch.nn.Sequential(\n",
    "      torch.nn.Linear(4096, 256),\n",
    "      torch.nn.ReLU(),\n",
    "      torch.nn.Linear(256, 1),\n",
    "    )\n",
    "    self.variance_head = torch.nn.Sequential(\n",
    "      torch.nn.Linear(4096, 256),\n",
    "      torch.nn.ReLU(),\n",
    "      torch.nn.Linear(256, 1),\n",
    "    )\n",
    "    self.mode_val = 0 # classifcation, regression, window\n",
    "\n",
    "  def training_step(self, batch, batch_idx):\n",
    "    features = self.feature_extract(batch)\n",
    "    if self.mode_val == 0:\n",
    "      self.classifcation_head(features)\n",
    "    elif self.mode_val == 1:\n",
    "      self.regression_head(features).flatten()\n",
    "    else:\n",
    "      reg = self.regression_head(features).detach()\n",
    "      mean, var = reg.flatten(), self.variance_head(features).flatten() ** 2\n",
    "\n",
    "  def mode(self, mode):\n",
    "    self.mode_val = mode\n",
    "MHCNN = MultHeadCNN().to(device)"
   ]
  },
  {
   "cell_type": "code",
   "execution_count": 91,
   "metadata": {},
   "outputs": [],
   "source": [
    "batch_size = 30\n",
    "learning_rate = 1e-4\n",
    "\n",
    "training_data, val_data, test_data = torch.utils.data.random_split(classification_data, [0.8, 0.1, 0.1])\n",
    "train_dataloader = torch.utils.data.DataLoader(training_data, batch_size=batch_size, shuffle=True)\n",
    "val_dataloader = torch.utils.data.DataLoader(val_data, batch_size=batch_size,)\n",
    "test_dataloader = torch.utils.data.DataLoader(test_data, batch_size=batch_size,)\n",
    "\n",
    "reg_training_data, reg_val_data, reg_test_data = torch.utils.data.random_split(ronly_data, [0.8, 0.1, 0.1])\n",
    "reg_train_dataloader = torch.utils.data.DataLoader(reg_training_data, batch_size=batch_size, shuffle=True)\n",
    "reg_val_dataloader = torch.utils.data.DataLoader(reg_val_data, batch_size=batch_size,)\n",
    "reg_test_dataloader = torch.utils.data.DataLoader(reg_test_data, batch_size=batch_size,)"
   ]
  },
  {
   "cell_type": "code",
   "execution_count": 92,
   "metadata": {},
   "outputs": [],
   "source": [
    "def HSRLoss(pred, label):\n",
    "  mean = pred[0]\n",
    "  var = pred[1]\n",
    "  loss = torch.zeros_like(label)\n",
    "  loss += ((label - mean) ** 2) / (2 * (var ** 2))\n",
    "  loss += torch.log(2 * torch.pi * (var ** 2)) / 2\n",
    "  return loss.mean(dim=-1)"
   ]
  },
  {
   "cell_type": "code",
   "execution_count": 93,
   "metadata": {},
   "outputs": [],
   "source": [
    "def train_epoch_regression(model: torch.nn.Module, dataloader: torch.utils.data.DataLoader, optim: torch.optim.Optimizer, loss_fn = torch.nn.MSELoss(), device=torch.device('cpu'), norm: tuple = (0, 1)) -> list[float]:\n",
    "  '''\n",
    "  Args:\n",
    "    model \n",
    "      The model being trained\n",
    "    dataloader\n",
    "      The training dataloader\n",
    "    optim\n",
    "      The optimizer to use for training\n",
    "    loss_fn\n",
    "      (defaults to torch.nn.MSELoss()) the regresison loss to use\n",
    "    device\n",
    "      The device on which to train on\n",
    "    norm : tuple\n",
    "      A shifting and scaling constant, in that order\n",
    "\n",
    "  Returns:\n",
    "    losses: a list of losses for every batch in the epoch\n",
    "  '''\n",
    "  losses = []\n",
    "  for (data, label) in dataloader:\n",
    "    data = data.to(device).float()\n",
    "    label = (label.to(device).float() - norm[0]) / norm[1]\n",
    "    pred = model(data)\n",
    "    loss = loss_fn(pred, label)\n",
    "\n",
    "    optim.zero_grad()\n",
    "    loss.backward()\n",
    "    optim.step()\n",
    "\n",
    "    losses.append(loss.item())\n",
    "  return losses"
   ]
  },
  {
   "cell_type": "code",
   "execution_count": 94,
   "metadata": {},
   "outputs": [],
   "source": [
    "optim = torch.optim.Adam(MHCNN.parameters(), lr=learning_rate, weight_decay=1e-2)\n",
    "loss_fn = torch.nn.CrossEntropyLoss(torch.Tensor([1.16, 7.23]).to(device))"
   ]
  },
  {
   "cell_type": "markdown",
   "metadata": {},
   "source": [
    "## Training & Validation"
   ]
  },
  {
   "cell_type": "markdown",
   "metadata": {},
   "source": [
    "### Training the Classifier"
   ]
  },
  {
   "cell_type": "code",
   "execution_count": 149,
   "metadata": {},
   "outputs": [],
   "source": [
    "MHCNN.mode(0)"
   ]
  },
  {
   "cell_type": "code",
   "execution_count": 29,
   "metadata": {},
   "outputs": [
    {
     "name": "stderr",
     "output_type": "stream",
     "text": [
      "100%|██████████| 40/40 [22:12<00:00, 33.32s/it]\n"
     ]
    },
    {
     "data": {
      "image/png": "[encoded data removed]",
      "text/plain": [
       "<Figure size 640x480 with 1 Axes>"
      ]
     },
     "metadata": {},
     "output_type": "display_data"
    },
    {
     "data": {
      "image/png": "[encoded data removed]",
      "text/plain": [
       "<Figure size 640x480 with 1 Axes>"
      ]
     },
     "metadata": {},
     "output_type": "display_data"
    }
   ],
   "source": [
    "epochs=40\n",
    "losses = []\n",
    "accuracy = []\n",
    "best_accuracy = 0\n",
    "for _ in tqdm(range(epochs)):\n",
    "  losses.extend(train.train_epoch_classifcation(MHCNN, train_dataloader, optim, loss_fn=loss_fn, device=device))\n",
    "  TP, TN, FP, FN = train.validate_binary_softmax(MHCNN, val_dataloader, device=device)\n",
    "  if((TP + TN) / (TP + FP + TN + FN) > best_accuracy):\n",
    "    torch.save(MHCNN.state_dict(), \"MHCNN.pt\")\n",
    "    best_accuracy = (TP + TN) / (TP + FP + TN + FN)\n",
    "  accuracy.append((TP + TN) / (TP + FP + TN + FN))\n",
    "\n",
    "plt.title(\"Loss vs. Batches Seen\")\n",
    "plt.plot(losses)\n",
    "plt.ylim(bottom=0)\n",
    "plt.show()\n",
    "\n",
    "plt.title(\"Accuracy vs. Epochs\")\n",
    "plt.plot(accuracy)\n",
    "plt.ylim((0, 1))\n",
    "plt.show()"
   ]
  },
  {
   "cell_type": "code",
   "execution_count": 150,
   "metadata": {},
   "outputs": [
    {
     "data": {
      "text/plain": [
       "<All keys matched successfully>"
      ]
     },
     "execution_count": 150,
     "metadata": {},
     "output_type": "execute_result"
    }
   ],
   "source": [
    "MHCNN.load_state_dict(torch.load(\"MHCNN.pt\"))"
   ]
  },
  {
   "cell_type": "code",
   "execution_count": 151,
   "metadata": {},
   "outputs": [
    {
     "name": "stderr",
     "output_type": "stream",
     "text": [
      "                                             "
     ]
    },
    {
     "name": "stdout",
     "output_type": "stream",
     "text": [
      "9 17 1 0\n",
      "Sensitivity: 1.0\n",
      "Specificity: 0.9444444444444444\n",
      "Accuracy: 0.9629629629629629\n",
      "FPR/h 0.3333333333333333\n"
     ]
    },
    {
     "name": "stderr",
     "output_type": "stream",
     "text": [
      "\r"
     ]
    }
   ],
   "source": [
    "TP, TN, FP, FN = train.validate_binary_softmax(MHCNN, test_dataloader, device=device)\n",
    "print(TP, TN, FP, FN)\n",
    "print(f\"Sensitivity: {TP / (TP + FN)}\")\n",
    "print(f\"Specificity: {TN / (TN + FP)}\")\n",
    "print(f\"Accuracy: {(TP + TN) / (TP + FP + TN + FN)}\")\n",
    "print(f\"FPR/h {FP / (FP + TN) / (1 / 6)}\")"
   ]
  },
  {
   "cell_type": "markdown",
   "metadata": {},
   "source": [
    "### Training the Windowing Function"
   ]
  },
  {
   "cell_type": "code",
   "execution_count": 152,
   "metadata": {},
   "outputs": [],
   "source": [
    "sample = torch.Tensor([label.item() for data, label in ronly_data])\n",
    "norm=(sample.mean().item(), sample.std().item()/(1 ** 0.5))"
   ]
  },
  {
   "cell_type": "markdown",
   "metadata": {},
   "source": [
    "#### Regression"
   ]
  },
  {
   "cell_type": "code",
   "execution_count": 153,
   "metadata": {},
   "outputs": [],
   "source": [
    "# Training Regression First\n",
    "MHCNN.mode(1)"
   ]
  },
  {
   "cell_type": "code",
   "execution_count": 154,
   "metadata": {},
   "outputs": [
    {
     "name": "stderr",
     "output_type": "stream",
     "text": [
      "100%|██████████| 40/40 [05:52<00:00,  8.82s/it]\n"
     ]
    },
    {
     "data": {
      "image/png": "[encoded data removed]",
      "text/plain": [
       "<Figure size 640x480 with 1 Axes>"
      ]
     },
     "metadata": {},
     "output_type": "display_data"
    },
    {
     "data": {
      "image/png": "[encoded data removed]",
      "text/plain": [
       "<Figure size 640x480 with 1 Axes>"
      ]
     },
     "metadata": {},
     "output_type": "display_data"
    }
   ],
   "source": [
    "epochs=40\n",
    "losses = []\n",
    "val_losses = []\n",
    "best_loss = float('inf')\n",
    "for _ in tqdm(range(epochs)):\n",
    "  losses.extend(train.train_epoch_regression(MHCNN, reg_train_dataloader, optim=optim, device=device, norm=norm))\n",
    "  val_loss = train.validate_epoch_regression(MHCNN, reg_val_dataloader, device=device, norm=norm)\n",
    "  val_loss = sum(val_loss) / len(val_loss)\n",
    "  if(val_loss < best_loss):\n",
    "    torch.save(MHCNN.state_dict(), \"MHCNN_R.pt\")\n",
    "    best_loss = val_loss\n",
    "  val_losses.append(val_loss)\n",
    "\n",
    "plt.title(\"Loss vs. Batches Seen\")\n",
    "plt.plot(losses)\n",
    "plt.ylim(bottom=0)\n",
    "plt.show()\n",
    "\n",
    "plt.title(\"Validate Losses vs. Epochs\")\n",
    "plt.plot(val_losses)\n",
    "plt.ylim(bottom=0)\n",
    "plt.show()"
   ]
  },
  {
   "cell_type": "code",
   "execution_count": 155,
   "metadata": {},
   "outputs": [
    {
     "data": {
      "text/plain": [
       "<All keys matched successfully>"
      ]
     },
     "execution_count": 155,
     "metadata": {},
     "output_type": "execute_result"
    }
   ],
   "source": [
    "MHCNN.load_state_dict(torch.load(\"MHCNN_R.pt\"))"
   ]
  },
  {
   "cell_type": "code",
   "execution_count": 156,
   "metadata": {},
   "outputs": [
    {
     "name": "stdout",
     "output_type": "stream",
     "text": [
      "42.14907665534306\n"
     ]
    }
   ],
   "source": [
    "test_loss = train.validate_epoch_regression(MHCNN, reg_test_dataloader, device=device, norm=norm)\n",
    "test_loss = sum(test_loss) / len(test_loss)\n",
    "print(((test_loss ** 0.5) * norm[1]) / 60)"
   ]
  },
  {
   "cell_type": "markdown",
   "metadata": {},
   "source": [
    "#### Variance"
   ]
  },
  {
   "cell_type": "code",
   "execution_count": 136,
   "metadata": {},
   "outputs": [],
   "source": [
    "# Training Varience\n",
    "MHCNN.mode(2)"
   ]
  },
  {
   "cell_type": "code",
   "execution_count": 138,
   "metadata": {},
   "outputs": [],
   "source": [
    "@torch.inference_mode()\n",
    "def get_brier():\n",
    "  dataset = reg_test_data\n",
    "  n = torch.distributions.normal.Normal(0, 1)\n",
    "  brier = 0\n",
    "  for p in torch.linspace(0, .99, 20):\n",
    "    z = n.icdf((1 + p) / 2).item()\n",
    "    for data, label in dataset:\n",
    "      d = torch.Tensor(data).unsqueeze(0)\n",
    "      l = (label.item() - norm[0]) / norm[1]\n",
    "      mean, std = MHCNN(d)\n",
    "      if l >= mean.item() - std.item() * z and l <= mean.item() + std.item() * z:\n",
    "        brier += (1 - p) ** 2\n",
    "      else: \n",
    "        brier += (p) ** 2\n",
    "  \n",
    "  brier/=len(dataset) * 20\n",
    "  return brier.item()"
   ]
  },
  {
   "cell_type": "code",
   "execution_count": 139,
   "metadata": {},
   "outputs": [
    {
     "name": "stderr",
     "output_type": "stream",
     "text": [
      "100%|██████████| 40/40 [14:40<00:00, 22.02s/it]\n"
     ]
    },
    {
     "data": {
      "image/png": "[encoded data removed]",
      "text/plain": [
       "<Figure size 640x480 with 1 Axes>"
      ]
     },
     "metadata": {},
     "output_type": "display_data"
    },
    {
     "data": {
      "image/png": "[encoded data removed]",
      "text/plain": [
       "<Figure size 640x480 with 1 Axes>"
      ]
     },
     "metadata": {},
     "output_type": "display_data"
    }
   ],
   "source": [
    "epochs=40\n",
    "losses = []\n",
    "val_losses = []\n",
    "best_loss = float('inf')\n",
    "for _ in tqdm(range(epochs)):\n",
    "  losses.extend(train.train_epoch_regression(MHCNN, reg_train_dataloader, optim=optim, loss_fn=HSRLoss, device=device, norm=norm))\n",
    "  val_loss = get_brier()\n",
    "  if(val_loss < best_loss):\n",
    "    torch.save(MHCNN.state_dict(), \"MHCNN_V.pt\")\n",
    "    best_loss = val_loss\n",
    "  val_losses.append(val_loss)\n",
    "\n",
    "plt.title(\"Loss vs. Batches Seen\")\n",
    "plt.plot(losses)\n",
    "plt.ylim(bottom=0)\n",
    "plt.show()\n",
    "\n",
    "plt.title(\"Brier Score vs. Epochs\")\n",
    "plt.plot(val_losses)\n",
    "plt.ylim(bottom=0)\n",
    "plt.show()"
   ]
  },
  {
   "cell_type": "code",
   "execution_count": 114,
   "metadata": {},
   "outputs": [
    {
     "data": {
      "text/plain": [
       "<All keys matched successfully>"
      ]
     },
     "execution_count": 114,
     "metadata": {},
     "output_type": "execute_result"
    }
   ],
   "source": [
    "MHCNN.load_state_dict(torch.load(\"MHCNN_V.pt\"))"
   ]
  },
  {
   "cell_type": "code",
   "execution_count": 115,
   "metadata": {},
   "outputs": [
    {
     "data": {
      "text/plain": [
       "79"
      ]
     },
     "execution_count": 115,
     "metadata": {},
     "output_type": "execute_result"
    }
   ],
   "source": [
    "len(ronly_data)"
   ]
  },
  {
   "cell_type": "code",
   "execution_count": 116,
   "metadata": {},
   "outputs": [
    {
     "name": "stdout",
     "output_type": "stream",
     "text": [
      "0.6717144250869751 0.5904659032821655\n",
      "95%: tensor([-0.0812], device='cuda:0') tensor([1.2622], device='cuda:0')\n",
      "95%: tensor([61.4606], device='cuda:0') tensor([108.6572], device='cuda:0')\n",
      "Center tensor([85.0589], device='cuda:0')\n",
      "1.0679413999055585 101.83333333333333\n",
      "Diff: 16.7744140625 Minutes\n"
     ]
    }
   ],
   "source": [
    "# Seeing how individual exmples fare\n",
    "idx = 3\n",
    "pred = MHCNN(torch.Tensor(ronly_data[idx][0]).unsqueeze(0))\n",
    "mean = pred[0].detach()\n",
    "var = pred[1].detach()\n",
    "print(var.item(), mean.item())\n",
    "print(f\"95%: {mean - torch.abs(var)} {mean + torch.abs(var)}\")\n",
    "print(f\"95%: {((mean - torch.abs(var)) * norm[1] + norm[0]) / 60} {((mean + torch.abs(var)) * norm[1] + norm[0]) / 60}\")\n",
    "print(f\"Center {(mean * norm[1] + norm[0]) / 60}\")\n",
    "print((ronly_data[idx][1] - norm[0]) / norm[1], (ronly_data[idx][1] / 60))\n",
    "print(f\"Diff: {((ronly_data[idx][1] / 60) - (mean * norm[1] + norm[0]) / 60).item()} Minutes\")\n"
   ]
  },
  {
   "cell_type": "code",
   "execution_count": 117,
   "metadata": {},
   "outputs": [
    {
     "data": {
      "text/plain": [
       "(tensor(1.1945), tensor(0.1401), tensor(0.8054), tensor(0.1053))"
      ]
     },
     "execution_count": 117,
     "metadata": {},
     "output_type": "execute_result"
    }
   ],
   "source": [
    "@torch.inference_mode()\n",
    "def analyze_uncert():\n",
    "  data = [torch.Tensor(data).unsqueeze(0) for data, label in reg_test_data]\n",
    "  entropy = torch.Tensor([torch.log(torch.e * 2 * torch.pi * torch.square(MHCNN(d)[1])).item() / 2 for d in data])\n",
    "  std = torch.Tensor([MHCNN(d)[1].item() for d in data])\n",
    "  return entropy.mean(), entropy.std(), std.mean(), std.std()\n",
    "\n",
    "analyze_uncert()"
   ]
  },
  {
   "cell_type": "code",
   "execution_count": 132,
   "metadata": {},
   "outputs": [
    {
     "data": {
      "image/png": "[encoded data removed]",
      "text/plain": [
       "<Figure size 640x480 with 1 Axes>"
      ]
     },
     "metadata": {},
     "output_type": "display_data"
    },
    {
     "name": "stdout",
     "output_type": "stream",
     "text": [
      "Brier Score: 0.1848161369562149\n"
     ]
    }
   ],
   "source": [
    "@torch.inference_mode()\n",
    "def plot_calibration():\n",
    "  dataset = reg_test_data\n",
    "  n = torch.distributions.normal.Normal(0, 1)\n",
    "  ans = []\n",
    "  brier = 0\n",
    "  for p in torch.linspace(0, .99, 20):\n",
    "    z = n.icdf((1 + p) / 2).item()\n",
    "    cnt = 0\n",
    "    for data, label in dataset:\n",
    "      d = torch.Tensor(data).unsqueeze(0)\n",
    "      l = (label.item() - norm[0]) / norm[1]\n",
    "      mean, std = MHCNN(d)\n",
    "      if l >= mean.item() - std.item() * z and l <= mean.item() + std.item() * z:\n",
    "        cnt+=1\n",
    "        brier += (1 - p) ** 2\n",
    "      else: \n",
    "        brier += (p) ** 2\n",
    "\n",
    "    cnt/=len(dataset)\n",
    "    ans.append(cnt)\n",
    "  \n",
    "  brier/=len(dataset) * 20\n",
    "\n",
    "  plt.plot(np.linspace(0, .99, 20), ans)\n",
    "  plt.plot([0, 1], [0, 1])\n",
    "  plt.show()    \n",
    "  print(f\"Brier Score: {brier}\")\n",
    "  return np.linspace(0, .99, 20), ans, brier\n",
    "\n",
    "a, b, c = plot_calibration()"
   ]
  }
 ],
 "metadata": {
  "colab": {
   "authorship_tag": "ABX9TyMVoYZPzbmT8Jj3vRw9ZMhT",
   "collapsed_sections": [
    "hkScKHb2Kp6R",
    "pGLDKqvVKt_2"
   ],
   "include_colab_link": true,
   "provenance": []
  },
  "kernelspec": {
   "display_name": "ss",
   "language": "python",
   "name": "ss"
  },
  "language_info": {
   "codemirror_mode": {
    "name": "ipython",
    "version": 3
   },
   "file_extension": ".py",
   "mimetype": "text/x-python",
   "name": "python",
   "nbconvert_exporter": "python",
   "pygments_lexer": "ipython3",
   "version": "3.12.4"
  }
 },
 "nbformat": 4,
 "nbformat_minor": 4
}
