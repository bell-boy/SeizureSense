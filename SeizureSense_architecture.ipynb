{
  "cells": [
    {
      "cell_type": "markdown",
      "metadata": {
        "colab_type": "text",
        "id": "view-in-github"
      },
      "source": [
        "<a href=\"https://colab.research.google.com/github/bell-boy/SeizureSense/blob/main/SeizureSense_architecture.ipynb\" target=\"_parent\"><img src=\"https://colab.research.google.com/assets/colab-badge.svg\" alt=\"Open In Colab\"/></a>"
      ]
    },
    {
      "cell_type": "markdown",
      "metadata": {
        "id": "jKPdNAUpec_6"
      },
      "source": [
        "# Imports\n"
      ]
    },
    {
      "cell_type": "code",
      "execution_count": 1,
      "metadata": {
        "colab": {
          "base_uri": "https://localhost:8080/"
        },
        "id": "GbvRXlEeLaSs",
        "outputId": "172b93a1-4b1e-468e-d6d9-6a51b2478e30"
      },
      "outputs": [
        {
          "name": "stdout",
          "output_type": "stream",
          "text": [
            "fatal: destination path 'SeizureSense' already exists and is not an empty directory.\n"
          ]
        }
      ],
      "source": [
        "!git clone https://github.com/bell-boy/SeizureSense.git"
      ]
    },
    {
      "cell_type": "code",
      "execution_count": 1,
      "metadata": {
        "colab": {
          "base_uri": "https://localhost:8080/"
        },
        "id": "wF967by0cJPn",
        "outputId": "8115a9b8-806c-49b8-a023-118d11db5223"
      },
      "outputs": [
        {
          "name": "stderr",
          "output_type": "stream",
          "text": [
            "/opt/conda/envs/ss/lib/python3.12/site-packages/torch/cuda/__init__.py:619: UserWarning: Can't initialize NVML\n",
            "  warnings.warn(\"Can't initialize NVML\")\n",
            "/opt/conda/envs/ss/lib/python3.12/site-packages/tqdm/auto.py:21: TqdmWarning: IProgress not found. Please update jupyter and ipywidgets. See https://ipywidgets.readthedocs.io/en/stable/user_install.html\n",
            "  from .autonotebook import tqdm as notebook_tqdm\n"
          ]
        }
      ],
      "source": [
        "#!pip install mne\n",
        "import mne\n",
        "import numpy as np\n",
        "import pandas as pd\n",
        "import torch\n",
        "import torch.nn as nn\n",
        "\n",
        "from torch import tensor\n",
        "mne.set_log_level('ERROR')\n",
        "import torch\n",
        "import numpy as np\n",
        "from torch import nn\n",
        "import scipy as sp\n",
        "#!pip install torch_geometric\n",
        "import torch_geometric\n",
        "from torch_geometric import utils\n",
        "from torch_geometric.utils import dense_to_sparse\n",
        "if torch.cuda.is_available():\n",
        "    device = \"cuda\"\n",
        "else:\n",
        "    device = \"cpu\"\n",
        "import torchvision\n",
        "import torchvision.transforms as transforms\n",
        "#!pip install causal-conv1d>=1.1.0\n",
        "#!pip install mamba-ssm\n",
        "import torch\n",
        "from mamba_ssm import Mamba\n",
        "#!pip install gnn\n",
        "import torch.nn as nn\n",
        "#from SeizureSense.gnn.GraphLearner import GraphLearnerNN\n",
        "from torch_geometric.utils.convert import to_networkx\n",
        "from torch_geometric.nn.conv import GATv2Conv"
      ]
    },
    {
      "cell_type": "markdown",
      "metadata": {
        "id": "ebXF7flkcbFl"
      },
      "source": [
        "# Mamba Blocks\n"
      ]
    },
    {
      "cell_type": "code",
      "execution_count": 5,
      "metadata": {
        "id": "Xp-YeaohcYYN"
      },
      "outputs": [],
      "source": [
        "class MambaBlock(nn.Module):\n",
        "    def __init__(self, dim, d_state=16, d_conv=4, expand=2):\n",
        "        super(MambaBlock, self).__init__()\n",
        "        self.mamba = Mamba(\n",
        "            d_model=dim,\n",
        "            d_state=d_state,\n",
        "            d_conv=d_conv,\n",
        "            expand=expand\n",
        "        ).to(\"cuda\")\n",
        "\n",
        "    def forward(self, x):\n",
        "        return self.mamba(x)\n"
      ]
    },
    {
      "cell_type": "code",
      "execution_count": 6,
      "metadata": {
        "id": "Hwz1XUzqchq_"
      },
      "outputs": [],
      "source": [
        "class StackedMambaModel(nn.Module):\n",
        "    def __init__(self, num_layers, dim, d_state=16, d_conv=4, expand=2):\n",
        "        super(StackedMambaModel, self).__init__()\n",
        "        self.layers = nn.ModuleList([MambaBlock(dim, d_state, d_conv, expand) for _ in range(num_layers)])\n",
        "\n",
        "    def forward(self, x):\n",
        "        for layer in self.layers:\n",
        "            x = layer(x)\n",
        "        return x\n"
      ]
    },
    {
      "cell_type": "code",
      "execution_count": 7,
      "metadata": {
        "id": "OjytfBFncjzc"
      },
      "outputs": [],
      "source": [
        "class EEGMamba(nn.Module):\n",
        "    def __init__(self, num_channels, num_layers, dim, d_state=16, d_conv=4, expand=2):\n",
        "        super(EEGMamba, self).__init__()\n",
        "        self.channel_models = nn.ModuleList([StackedMambaModel(num_layers, dim, d_state, d_conv, expand) for _ in range(num_channels)])\n",
        "\n",
        "    def forward(self, x):\n",
        "        batch_size = x.size(0)\n",
        "        channel_outputs = []\n",
        "\n",
        "        # Iterate over each channel model and corresponding channel data\n",
        "        for i in range(x.size(1)):\n",
        "            channel_data = x[:, i, :, :]  # Extract data for the i-th channel\n",
        "            model = self.channel_models[i]\n",
        "            output = model(channel_data)\n",
        "            averaged_output = torch.mean(output, dim=1, keepdim=True)\n",
        "            channel_outputs.append(averaged_output)\n",
        "\n",
        "        # Stack the channel outputs along the correct dimension\n",
        "        combined_output = torch.stack(channel_outputs, dim=1)\n",
        "        return combined_output"
      ]
    },
    {
      "cell_type": "markdown",
      "metadata": {
        "id": "sKYGJISscnWw"
      },
      "source": [
        "# Graph Structure learning"
      ]
    },
    {
      "cell_type": "code",
      "execution_count": 8,
      "metadata": {
        "id": "mVGaxxbMehZp"
      },
      "outputs": [],
      "source": [
        "class GraphLearnerNN(nn.Module):\n",
        "    def __init__(self, depth, threshold=0.01):\n",
        "        super().__init__()\n",
        "        self.depth = depth\n",
        "        self.threshold= threshold\n",
        "        self.Q = nn.Linear(depth,depth, bias=False)\n",
        "        self.K = nn.Linear(depth,depth, bias=False)\n",
        "\n",
        "    def forward(self,tensor):\n",
        "        queries = self.Q(tensor)\n",
        "        keys = torch.transpose(self.K(tensor), -1,-2)\n",
        "        # Batched matrix multiplication, results in shape (batch, num_nodes, num_nodes)\n",
        "        adj = torch.bmm(queries,keys) / np.sqrt(self.depth)\n",
        "\n",
        "        # return the softmax of the learned adjacency matrix\n",
        "        adj = torch.softmax(adj,dim=-1)\n",
        "\n",
        "        # Average the adj matrix with the transpose so that the graph will be bidirectional\n",
        "        # e.g the connection from [1,2] should be the same as [2,1]\n",
        "        adj = (adj + adj.transpose(-1,-2))/2\n",
        "\n",
        "        # Set values below specified threshold to 0\n",
        "        adj[adj<=self.threshold] = 0\n",
        "\n",
        "        edge_indexes, edge_weights = dense_to_sparse(adj)\n",
        "\n",
        "        return edge_indexes, edge_weights"
      ]
    },
    {
      "cell_type": "markdown",
      "metadata": {
        "id": "cpZsdw5zeCa0"
      },
      "source": [
        "# GNN"
      ]
    },
    {
      "cell_type": "code",
      "execution_count": 9,
      "metadata": {
        "id": "sUhgaxeDenh0"
      },
      "outputs": [],
      "source": [
        "class GraphAttentionNetwork(nn.Module):\n",
        "    def __init__(self, kernel_size = 2):\n",
        "        super().__init__()\n",
        "        self.gsl = GraphLearnerNN(1,threshold = 0.04)\n",
        "\n",
        "        self.layer1 = GATv2Conv(1, 1)\n",
        "\n",
        "        self.layer2 = GATv2Conv(1, 1)\n",
        "\n",
        "        self.pooling = nn.AvgPool2d(kernel_size=kernel_size)\n",
        "\n",
        "        self.activation = torch.nn.LeakyReLU()\n",
        "\n",
        "\n",
        "\n",
        "    def forward(self, x):\n",
        "\n",
        "        edge_idx, edge_weights = self.gsl(x)\n",
        "\n",
        "        edge_idx = edge_idx.to(int).to(device)\n",
        "\n",
        "        x = torch.reshape(x, (x.shape[0] * x.shape[1], x.shape[2]))\n",
        "        x = self.layer1(x, edge_idx)\n",
        "\n",
        "        x = self.activation(x)\n",
        "\n",
        "        x = self.layer2(x, edge_idx)\n",
        "        x = self.activation(x)\n",
        "\n",
        "        x = x.unsqueeze(0).unsqueeze(0)\n",
        "        #x = self.pooling(x)\n",
        "\n",
        "        linear = nn.Linear(x.shape[-1] * x.shape[-2], 2).to(x.device)\n",
        "        x = linear(torch.flatten(x))\n",
        "        return x\n",
        "        x = linear(torch.flatten(x))\n",
        "        return x"
      ]
    },
    {
      "cell_type": "markdown",
      "metadata": {
        "id": "1gKeU5oBm9Uk"
      },
      "source": [
        "# Seizuresense Architecture\n"
      ]
    },
    {
      "cell_type": "code",
      "execution_count": 44,
      "metadata": {},
      "outputs": [],
      "source": [
        "from chbmit.chbmit import FilteredCMP\n",
        "from mlutils import train\n",
        "import matplotlib.pyplot as plt\n",
        "from tqdm import tqdm"
      ]
    },
    {
      "cell_type": "code",
      "execution_count": 15,
      "metadata": {},
      "outputs": [],
      "source": [
        "class WrapperDataset(torch.utils.data.Dataset):\n",
        "    def __init__(self):\n",
        "        super().__init__()\n",
        "        self.data = FilteredCMP(tok_len=60, ctx_len=1, sop=3600, sph=0, path=\"../physionet.org/files/chbmit/1.0.0/chb01/\", use_tok_dim=True)\n",
        "\n",
        "    def __len__(self):\n",
        "        return len(self.data)\n",
        "    \n",
        "    def __getitem__(self, idx):\n",
        "        return self.data[idx][0].reshape((23, -1, 1)), self.data[idx][1]"
      ]
    },
    {
      "cell_type": "code",
      "execution_count": 16,
      "metadata": {},
      "outputs": [
        {
          "name": "stderr",
          "output_type": "stream",
          "text": [
            "100%|██████████| 2732/2732 [02:45<00:00, 16.56it/s]\n"
          ]
        }
      ],
      "source": [
        "data = WrapperDataset()"
      ]
    },
    {
      "cell_type": "code",
      "execution_count": 51,
      "metadata": {
        "id": "F4gHPvlLnA2H"
      },
      "outputs": [],
      "source": [
        "class SeizureSense(nn.Module):\n",
        "    def __init__(self, num_channels, num_layers, dim, d_state=16, d_conv=4, expand=2, kernel_size=2):\n",
        "        super(SeizureSense, self).__init__()\n",
        "        self.mamba_model = EEGMamba(num_channels, num_layers, dim, d_state, d_conv, expand)\n",
        "        self.gnn_model = GraphAttentionNetwork(kernel_size)\n",
        "\n",
        "    def forward(self, x):\n",
        "        #print(x.shape)\n",
        "        x = self.mamba_model(x)\n",
        "        x = x.squeeze(2)  # making it (batch_size, num_channels, dim)\n",
        "        #print(x.shape)\n",
        "        x = self.gnn_model(x)\n",
        "        return x.unsqueeze(0)"
      ]
    },
    {
      "cell_type": "code",
      "execution_count": 38,
      "metadata": {},
      "outputs": [],
      "source": [
        "batch_size = 1\n",
        "learning_rate = 1e-4\n",
        "\n",
        "training_data, val_data, test_data = torch.utils.data.random_split(data, [0.8, 0.1, 0.1])\n",
        "train_dataloader = torch.utils.data.DataLoader(training_data, batch_size=batch_size, shuffle=True)\n",
        "val_dataloader = torch.utils.data.DataLoader(val_data, batch_size=batch_size,)\n",
        "test_dataloader = torch.utils.data.DataLoader(test_data, batch_size=batch_size,)"
      ]
    },
    {
      "cell_type": "code",
      "execution_count": 52,
      "metadata": {
        "colab": {
          "base_uri": "https://localhost:8080/"
        },
        "id": "JVR8OD23NvFb",
        "outputId": "5f229431-17f3-4187-b888-69e0e258bf19"
      },
      "outputs": [],
      "source": [
        "num_channels = 23\n",
        "sequence_length = 15360\n",
        "dim = 1\n",
        "torch.cuda.empty_cache()\n",
        "model = SeizureSense(num_channels, num_layers=4, dim=dim, d_state=16, d_conv=4, expand=2).to(\"cuda\")\n",
        "optim = torch.optim.Adam(model.parameters(),)\n",
        "loss_fn = torch.nn.CrossEntropyLoss(torch.Tensor([1.16, 7.23]).to(device))"
      ]
    },
    {
      "cell_type": "code",
      "execution_count": 54,
      "metadata": {},
      "outputs": [
        {
          "data": {
            "text/plain": [
              "tensor([[-0.0191,  0.1220]], device='cuda:0', grad_fn=<UnsqueezeBackward0>)"
            ]
          },
          "execution_count": 54,
          "metadata": {},
          "output_type": "execute_result"
        }
      ],
      "source": [
        "d, l = next(iter(train_dataloader))\n",
        "d = d.to(device)\n",
        "model(d)"
      ]
    },
    {
      "cell_type": "code",
      "execution_count": 55,
      "metadata": {},
      "outputs": [
        {
          "name": "stderr",
          "output_type": "stream",
          "text": [
            "100%|██████████| 10/10 [1:31:18<00:00, 547.90s/it]\n"
          ]
        },
        {
          "data": {
            "image/png": "[encoded data removed]",
            "text/plain": [
              "<Figure size 640x480 with 1 Axes>"
            ]
          },
          "metadata": {},
          "output_type": "display_data"
        },
        {
          "data": {
            "image/png": "[encoded data removed]",
            "text/plain": [
              "<Figure size 640x480 with 1 Axes>"
            ]
          },
          "metadata": {},
          "output_type": "display_data"
        }
      ],
      "source": [
        "epochs=10\n",
        "losses = []\n",
        "accuracy = []\n",
        "for _ in tqdm(range(epochs)):\n",
        "  losses.extend(train.train_epoch_classifcation(model, train_dataloader, optim, loss_fn=loss_fn, device=device))\n",
        "  TP, TN, FP, FN = train.validate_binary_softmax(model, val_dataloader, device=device)\n",
        "  accuracy.append((TP + TN) / (TP + FP + TN + FN))\n",
        "\n",
        "plt.title(\"Loss vs. Batches Seen\")\n",
        "plt.plot(losses)\n",
        "plt.ylim(bottom=0)\n",
        "plt.show()\n",
        "\n",
        "plt.title(\"Accuracy vs. Epochs\")\n",
        "plt.plot(accuracy)\n",
        "plt.ylim((0, 1))\n",
        "plt.show()"
      ]
    },
    {
      "cell_type": "code",
      "execution_count": 42,
      "metadata": {
        "id": "xH5XBm9jN11P"
      },
      "outputs": [
        {
          "data": {
            "text/plain": [
              "torch.Size([2])"
            ]
          },
          "execution_count": 42,
          "metadata": {},
          "output_type": "execute_result"
        }
      ],
      "source": [
        "d, l = next(iter(train_dataloader))\n",
        "d = d.to(device)\n",
        "model(d).shape"
      ]
    }
  ],
  "metadata": {
    "accelerator": "GPU",
    "colab": {
      "authorship_tag": "ABX9TyMQItFm66ho/4NZoknekGcz",
      "gpuType": "T4",
      "include_colab_link": true,
      "provenance": [],
      "toc_visible": true
    },
    "kernelspec": {
      "display_name": "Python 3",
      "name": "python3"
    },
    "language_info": {
      "codemirror_mode": {
        "name": "ipython",
        "version": 3
      },
      "file_extension": ".py",
      "mimetype": "text/x-python",
      "name": "python",
      "nbconvert_exporter": "python",
      "pygments_lexer": "ipython3",
      "version": "3.12.3"
    }
  },
  "nbformat": 4,
  "nbformat_minor": 0
}
