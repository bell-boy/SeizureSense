{
  "nbformat": 4,
  "nbformat_minor": 0,
  "metadata": {
    "colab": {
      "provenance": [],
      "toc_visible": true,
      "gpuType": "T4",
      "authorship_tag": "ABX9TyMQItFm66ho/4NZoknekGcz",
      "include_colab_link": true
    },
    "kernelspec": {
      "name": "python3",
      "display_name": "Python 3"
    },
    "language_info": {
      "name": "python"
    },
    "accelerator": "GPU"
  },
  "cells": [
    {
      "cell_type": "markdown",
      "metadata": {
        "id": "view-in-github",
        "colab_type": "text"
      },
      "source": [
        "<a href=\"https://colab.research.google.com/github/bell-boy/SeizureSense/blob/main/SeizureSense_architecture.ipynb\" target=\"_parent\"><img src=\"https://colab.research.google.com/assets/colab-badge.svg\" alt=\"Open In Colab\"/></a>"
      ]
    },
    {
      "cell_type": "markdown",
      "source": [
        "# Imports\n"
      ],
      "metadata": {
        "id": "jKPdNAUpec_6"
      }
    },
    {
      "cell_type": "code",
      "source": [
        "!git clone https://github.com/bell-boy/SeizureSense.git"
      ],
      "metadata": {
        "colab": {
          "base_uri": "https://localhost:8080/"
        },
        "id": "GbvRXlEeLaSs",
        "outputId": "172b93a1-4b1e-468e-d6d9-6a51b2478e30"
      },
      "execution_count": 1,
      "outputs": [
        {
          "output_type": "stream",
          "name": "stdout",
          "text": [
            "fatal: destination path 'SeizureSense' already exists and is not an empty directory.\n"
          ]
        }
      ]
    },
    {
      "cell_type": "code",
      "execution_count": 2,
      "metadata": {
        "colab": {
          "base_uri": "https://localhost:8080/"
        },
        "id": "wF967by0cJPn",
        "outputId": "8115a9b8-806c-49b8-a023-118d11db5223"
      },
      "outputs": [
        {
          "output_type": "stream",
          "name": "stdout",
          "text": [
            "Requirement already satisfied: mne in /usr/local/lib/python3.10/dist-packages (1.7.1)\n",
            "Requirement already satisfied: decorator in /usr/local/lib/python3.10/dist-packages (from mne) (4.4.2)\n",
            "Requirement already satisfied: jinja2 in /usr/local/lib/python3.10/dist-packages (from mne) (3.1.4)\n",
            "Requirement already satisfied: lazy-loader>=0.3 in /usr/local/lib/python3.10/dist-packages (from mne) (0.4)\n",
            "Requirement already satisfied: matplotlib>=3.5.0 in /usr/local/lib/python3.10/dist-packages (from mne) (3.7.1)\n",
            "Requirement already satisfied: numpy>=1.21.2 in /usr/local/lib/python3.10/dist-packages (from mne) (1.25.2)\n",
            "Requirement already satisfied: packaging in /usr/local/lib/python3.10/dist-packages (from mne) (24.1)\n",
            "Requirement already satisfied: pooch>=1.5 in /usr/local/lib/python3.10/dist-packages (from mne) (1.8.2)\n",
            "Requirement already satisfied: scipy>=1.7.1 in /usr/local/lib/python3.10/dist-packages (from mne) (1.11.4)\n",
            "Requirement already satisfied: tqdm in /usr/local/lib/python3.10/dist-packages (from mne) (4.66.4)\n",
            "Requirement already satisfied: contourpy>=1.0.1 in /usr/local/lib/python3.10/dist-packages (from matplotlib>=3.5.0->mne) (1.2.1)\n",
            "Requirement already satisfied: cycler>=0.10 in /usr/local/lib/python3.10/dist-packages (from matplotlib>=3.5.0->mne) (0.12.1)\n",
            "Requirement already satisfied: fonttools>=4.22.0 in /usr/local/lib/python3.10/dist-packages (from matplotlib>=3.5.0->mne) (4.53.0)\n",
            "Requirement already satisfied: kiwisolver>=1.0.1 in /usr/local/lib/python3.10/dist-packages (from matplotlib>=3.5.0->mne) (1.4.5)\n",
            "Requirement already satisfied: pillow>=6.2.0 in /usr/local/lib/python3.10/dist-packages (from matplotlib>=3.5.0->mne) (9.4.0)\n",
            "Requirement already satisfied: pyparsing>=2.3.1 in /usr/local/lib/python3.10/dist-packages (from matplotlib>=3.5.0->mne) (3.1.2)\n",
            "Requirement already satisfied: python-dateutil>=2.7 in /usr/local/lib/python3.10/dist-packages (from matplotlib>=3.5.0->mne) (2.8.2)\n",
            "Requirement already satisfied: platformdirs>=2.5.0 in /usr/local/lib/python3.10/dist-packages (from pooch>=1.5->mne) (4.2.2)\n",
            "Requirement already satisfied: requests>=2.19.0 in /usr/local/lib/python3.10/dist-packages (from pooch>=1.5->mne) (2.31.0)\n",
            "Requirement already satisfied: MarkupSafe>=2.0 in /usr/local/lib/python3.10/dist-packages (from jinja2->mne) (2.1.5)\n",
            "Requirement already satisfied: six>=1.5 in /usr/local/lib/python3.10/dist-packages (from python-dateutil>=2.7->matplotlib>=3.5.0->mne) (1.16.0)\n",
            "Requirement already satisfied: charset-normalizer<4,>=2 in /usr/local/lib/python3.10/dist-packages (from requests>=2.19.0->pooch>=1.5->mne) (3.3.2)\n",
            "Requirement already satisfied: idna<4,>=2.5 in /usr/local/lib/python3.10/dist-packages (from requests>=2.19.0->pooch>=1.5->mne) (3.7)\n",
            "Requirement already satisfied: urllib3<3,>=1.21.1 in /usr/local/lib/python3.10/dist-packages (from requests>=2.19.0->pooch>=1.5->mne) (2.0.7)\n",
            "Requirement already satisfied: certifi>=2017.4.17 in /usr/local/lib/python3.10/dist-packages (from requests>=2.19.0->pooch>=1.5->mne) (2024.6.2)\n",
            "Requirement already satisfied: torch_geometric in /usr/local/lib/python3.10/dist-packages (2.5.3)\n",
            "Requirement already satisfied: tqdm in /usr/local/lib/python3.10/dist-packages (from torch_geometric) (4.66.4)\n",
            "Requirement already satisfied: numpy in /usr/local/lib/python3.10/dist-packages (from torch_geometric) (1.25.2)\n",
            "Requirement already satisfied: scipy in /usr/local/lib/python3.10/dist-packages (from torch_geometric) (1.11.4)\n",
            "Requirement already satisfied: fsspec in /usr/local/lib/python3.10/dist-packages (from torch_geometric) (2023.6.0)\n",
            "Requirement already satisfied: jinja2 in /usr/local/lib/python3.10/dist-packages (from torch_geometric) (3.1.4)\n",
            "Requirement already satisfied: aiohttp in /usr/local/lib/python3.10/dist-packages (from torch_geometric) (3.9.5)\n",
            "Requirement already satisfied: requests in /usr/local/lib/python3.10/dist-packages (from torch_geometric) (2.31.0)\n",
            "Requirement already satisfied: pyparsing in /usr/local/lib/python3.10/dist-packages (from torch_geometric) (3.1.2)\n",
            "Requirement already satisfied: scikit-learn in /usr/local/lib/python3.10/dist-packages (from torch_geometric) (1.2.2)\n",
            "Requirement already satisfied: psutil>=5.8.0 in /usr/local/lib/python3.10/dist-packages (from torch_geometric) (5.9.5)\n",
            "Requirement already satisfied: aiosignal>=1.1.2 in /usr/local/lib/python3.10/dist-packages (from aiohttp->torch_geometric) (1.3.1)\n",
            "Requirement already satisfied: attrs>=17.3.0 in /usr/local/lib/python3.10/dist-packages (from aiohttp->torch_geometric) (23.2.0)\n",
            "Requirement already satisfied: frozenlist>=1.1.1 in /usr/local/lib/python3.10/dist-packages (from aiohttp->torch_geometric) (1.4.1)\n",
            "Requirement already satisfied: multidict<7.0,>=4.5 in /usr/local/lib/python3.10/dist-packages (from aiohttp->torch_geometric) (6.0.5)\n",
            "Requirement already satisfied: yarl<2.0,>=1.0 in /usr/local/lib/python3.10/dist-packages (from aiohttp->torch_geometric) (1.9.4)\n",
            "Requirement already satisfied: async-timeout<5.0,>=4.0 in /usr/local/lib/python3.10/dist-packages (from aiohttp->torch_geometric) (4.0.3)\n",
            "Requirement already satisfied: MarkupSafe>=2.0 in /usr/local/lib/python3.10/dist-packages (from jinja2->torch_geometric) (2.1.5)\n",
            "Requirement already satisfied: charset-normalizer<4,>=2 in /usr/local/lib/python3.10/dist-packages (from requests->torch_geometric) (3.3.2)\n",
            "Requirement already satisfied: idna<4,>=2.5 in /usr/local/lib/python3.10/dist-packages (from requests->torch_geometric) (3.7)\n",
            "Requirement already satisfied: urllib3<3,>=1.21.1 in /usr/local/lib/python3.10/dist-packages (from requests->torch_geometric) (2.0.7)\n",
            "Requirement already satisfied: certifi>=2017.4.17 in /usr/local/lib/python3.10/dist-packages (from requests->torch_geometric) (2024.6.2)\n",
            "Requirement already satisfied: joblib>=1.1.1 in /usr/local/lib/python3.10/dist-packages (from scikit-learn->torch_geometric) (1.4.2)\n",
            "Requirement already satisfied: threadpoolctl>=2.0.0 in /usr/local/lib/python3.10/dist-packages (from scikit-learn->torch_geometric) (3.5.0)\n",
            "Requirement already satisfied: mamba-ssm in /usr/local/lib/python3.10/dist-packages (2.0.4)\n",
            "Requirement already satisfied: torch in /usr/local/lib/python3.10/dist-packages (from mamba-ssm) (2.3.0+cu121)\n",
            "Requirement already satisfied: packaging in /usr/local/lib/python3.10/dist-packages (from mamba-ssm) (24.1)\n",
            "Requirement already satisfied: ninja in /usr/local/lib/python3.10/dist-packages (from mamba-ssm) (1.11.1.1)\n",
            "Requirement already satisfied: einops in /usr/local/lib/python3.10/dist-packages (from mamba-ssm) (0.8.0)\n",
            "Requirement already satisfied: triton in /usr/local/lib/python3.10/dist-packages (from mamba-ssm) (2.3.0)\n",
            "Requirement already satisfied: transformers in /usr/local/lib/python3.10/dist-packages (from mamba-ssm) (4.41.2)\n",
            "Requirement already satisfied: filelock in /usr/local/lib/python3.10/dist-packages (from torch->mamba-ssm) (3.14.0)\n",
            "Requirement already satisfied: typing-extensions>=4.8.0 in /usr/local/lib/python3.10/dist-packages (from torch->mamba-ssm) (4.12.2)\n",
            "Requirement already satisfied: sympy in /usr/local/lib/python3.10/dist-packages (from torch->mamba-ssm) (1.12.1)\n",
            "Requirement already satisfied: networkx in /usr/local/lib/python3.10/dist-packages (from torch->mamba-ssm) (3.3)\n",
            "Requirement already satisfied: jinja2 in /usr/local/lib/python3.10/dist-packages (from torch->mamba-ssm) (3.1.4)\n",
            "Requirement already satisfied: fsspec in /usr/local/lib/python3.10/dist-packages (from torch->mamba-ssm) (2023.6.0)\n",
            "Requirement already satisfied: nvidia-cuda-nvrtc-cu12==12.1.105 in /usr/local/lib/python3.10/dist-packages (from torch->mamba-ssm) (12.1.105)\n",
            "Requirement already satisfied: nvidia-cuda-runtime-cu12==12.1.105 in /usr/local/lib/python3.10/dist-packages (from torch->mamba-ssm) (12.1.105)\n",
            "Requirement already satisfied: nvidia-cuda-cupti-cu12==12.1.105 in /usr/local/lib/python3.10/dist-packages (from torch->mamba-ssm) (12.1.105)\n",
            "Requirement already satisfied: nvidia-cudnn-cu12==8.9.2.26 in /usr/local/lib/python3.10/dist-packages (from torch->mamba-ssm) (8.9.2.26)\n",
            "Requirement already satisfied: nvidia-cublas-cu12==12.1.3.1 in /usr/local/lib/python3.10/dist-packages (from torch->mamba-ssm) (12.1.3.1)\n",
            "Requirement already satisfied: nvidia-cufft-cu12==11.0.2.54 in /usr/local/lib/python3.10/dist-packages (from torch->mamba-ssm) (11.0.2.54)\n",
            "Requirement already satisfied: nvidia-curand-cu12==10.3.2.106 in /usr/local/lib/python3.10/dist-packages (from torch->mamba-ssm) (10.3.2.106)\n",
            "Requirement already satisfied: nvidia-cusolver-cu12==11.4.5.107 in /usr/local/lib/python3.10/dist-packages (from torch->mamba-ssm) (11.4.5.107)\n",
            "Requirement already satisfied: nvidia-cusparse-cu12==12.1.0.106 in /usr/local/lib/python3.10/dist-packages (from torch->mamba-ssm) (12.1.0.106)\n",
            "Requirement already satisfied: nvidia-nccl-cu12==2.20.5 in /usr/local/lib/python3.10/dist-packages (from torch->mamba-ssm) (2.20.5)\n",
            "Requirement already satisfied: nvidia-nvtx-cu12==12.1.105 in /usr/local/lib/python3.10/dist-packages (from torch->mamba-ssm) (12.1.105)\n",
            "Requirement already satisfied: nvidia-nvjitlink-cu12 in /usr/local/lib/python3.10/dist-packages (from nvidia-cusolver-cu12==11.4.5.107->torch->mamba-ssm) (12.5.40)\n",
            "Requirement already satisfied: huggingface-hub<1.0,>=0.23.0 in /usr/local/lib/python3.10/dist-packages (from transformers->mamba-ssm) (0.23.3)\n",
            "Requirement already satisfied: numpy>=1.17 in /usr/local/lib/python3.10/dist-packages (from transformers->mamba-ssm) (1.25.2)\n",
            "Requirement already satisfied: pyyaml>=5.1 in /usr/local/lib/python3.10/dist-packages (from transformers->mamba-ssm) (6.0.1)\n",
            "Requirement already satisfied: regex!=2019.12.17 in /usr/local/lib/python3.10/dist-packages (from transformers->mamba-ssm) (2024.5.15)\n",
            "Requirement already satisfied: requests in /usr/local/lib/python3.10/dist-packages (from transformers->mamba-ssm) (2.31.0)\n",
            "Requirement already satisfied: tokenizers<0.20,>=0.19 in /usr/local/lib/python3.10/dist-packages (from transformers->mamba-ssm) (0.19.1)\n",
            "Requirement already satisfied: safetensors>=0.4.1 in /usr/local/lib/python3.10/dist-packages (from transformers->mamba-ssm) (0.4.3)\n",
            "Requirement already satisfied: tqdm>=4.27 in /usr/local/lib/python3.10/dist-packages (from transformers->mamba-ssm) (4.66.4)\n",
            "Requirement already satisfied: MarkupSafe>=2.0 in /usr/local/lib/python3.10/dist-packages (from jinja2->torch->mamba-ssm) (2.1.5)\n",
            "Requirement already satisfied: charset-normalizer<4,>=2 in /usr/local/lib/python3.10/dist-packages (from requests->transformers->mamba-ssm) (3.3.2)\n",
            "Requirement already satisfied: idna<4,>=2.5 in /usr/local/lib/python3.10/dist-packages (from requests->transformers->mamba-ssm) (3.7)\n",
            "Requirement already satisfied: urllib3<3,>=1.21.1 in /usr/local/lib/python3.10/dist-packages (from requests->transformers->mamba-ssm) (2.0.7)\n",
            "Requirement already satisfied: certifi>=2017.4.17 in /usr/local/lib/python3.10/dist-packages (from requests->transformers->mamba-ssm) (2024.6.2)\n",
            "Requirement already satisfied: mpmath<1.4.0,>=1.1.0 in /usr/local/lib/python3.10/dist-packages (from sympy->torch->mamba-ssm) (1.3.0)\n",
            "Requirement already satisfied: gnn in /usr/local/lib/python3.10/dist-packages (1.1.9)\n"
          ]
        }
      ],
      "source": [
        "!pip install mne\n",
        "import mne\n",
        "import numpy as np\n",
        "import pandas as pd\n",
        "import torch\n",
        "import torch.nn as nn\n",
        "\n",
        "from torch import tensor\n",
        "mne.set_log_level('ERROR')\n",
        "import torch\n",
        "import numpy as np\n",
        "from torch import nn\n",
        "import scipy as sp\n",
        "!pip install torch_geometric\n",
        "import torch_geometric\n",
        "from torch_geometric import utils\n",
        "from torch_geometric.utils import dense_to_sparse\n",
        "if torch.cuda.is_available():\n",
        "    device = \"cuda\"\n",
        "else:\n",
        "    device = \"cpu\"\n",
        "import torchvision\n",
        "import torchvision.transforms as transforms\n",
        "!pip install causal-conv1d>=1.1.0\n",
        "!pip install mamba-ssm\n",
        "import torch\n",
        "from mamba_ssm import Mamba\n",
        "!pip install gnn\n",
        "import torch.nn as nn\n",
        "#from SeizureSense.gnn.GraphLearner import GraphLearnerNN\n",
        "from torch_geometric.utils.convert import to_networkx\n",
        "from torch_geometric.nn.conv import GATv2Conv"
      ]
    },
    {
      "cell_type": "markdown",
      "source": [
        "# Mamba Blocks\n"
      ],
      "metadata": {
        "id": "ebXF7flkcbFl"
      }
    },
    {
      "cell_type": "code",
      "source": [
        "class MambaBlock(nn.Module):\n",
        "    def __init__(self, dim, d_state=16, d_conv=4, expand=2):\n",
        "        super(MambaBlock, self).__init__()\n",
        "        self.mamba = Mamba(\n",
        "            d_model=dim,\n",
        "            d_state=d_state,\n",
        "            d_conv=d_conv,\n",
        "            expand=expand\n",
        "        ).to(\"cuda\")\n",
        "\n",
        "    def forward(self, x):\n",
        "        return self.mamba(x)\n"
      ],
      "metadata": {
        "id": "Xp-YeaohcYYN"
      },
      "execution_count": 3,
      "outputs": []
    },
    {
      "cell_type": "code",
      "source": [
        "class StackedMambaModel(nn.Module):\n",
        "    def __init__(self, num_layers, dim, d_state=16, d_conv=4, expand=2):\n",
        "        super(StackedMambaModel, self).__init__()\n",
        "        self.layers = nn.ModuleList([MambaBlock(dim, d_state, d_conv, expand) for _ in range(num_layers)])\n",
        "\n",
        "    def forward(self, x):\n",
        "        for layer in self.layers:\n",
        "            x = layer(x)\n",
        "        return x\n"
      ],
      "metadata": {
        "id": "Hwz1XUzqchq_"
      },
      "execution_count": 4,
      "outputs": []
    },
    {
      "cell_type": "code",
      "source": [
        "class EEGMamba(nn.Module):\n",
        "    def __init__(self, num_channels, num_layers, dim, d_state=16, d_conv=4, expand=2):\n",
        "        super(EEGMamba, self).__init__()\n",
        "        self.channel_models = nn.ModuleList([StackedMambaModel(num_layers, dim, d_state, d_conv, expand) for _ in range(num_channels)])\n",
        "\n",
        "    def forward(self, x):\n",
        "        batch_size = x.size(0)\n",
        "        channel_outputs = []\n",
        "\n",
        "        # Iterate over each channel model and corresponding channel data\n",
        "        for i in range(x.size(1)):\n",
        "            channel_data = x[:, i, :, :]  # Extract data for the i-th channel\n",
        "            model = self.channel_models[i]\n",
        "            output = model(channel_data)\n",
        "            averaged_output = torch.mean(output, dim=1, keepdim=True)\n",
        "            channel_outputs.append(averaged_output)\n",
        "\n",
        "        # Stack the channel outputs along the correct dimension\n",
        "        combined_output = torch.stack(channel_outputs, dim=1)\n",
        "        return combined_output"
      ],
      "metadata": {
        "id": "OjytfBFncjzc"
      },
      "execution_count": 5,
      "outputs": []
    },
    {
      "cell_type": "markdown",
      "source": [
        "# Graph Structure learning"
      ],
      "metadata": {
        "id": "sKYGJISscnWw"
      }
    },
    {
      "cell_type": "code",
      "source": [
        "class GraphLearnerNN(nn.Module):\n",
        "    def __init__(self, depth, threshold=0.01):\n",
        "        super().__init__()\n",
        "        self.depth = depth\n",
        "        self.threshold= threshold\n",
        "        self.Q = nn.Linear(depth,depth, bias=False)\n",
        "        self.K = nn.Linear(depth,depth, bias=False)\n",
        "\n",
        "    def forward(self,tensor):\n",
        "        queries = self.Q(tensor)\n",
        "        keys = torch.transpose(self.K(tensor), -1,-2)\n",
        "        # Batched matrix multiplication, results in shape (batch, num_nodes, num_nodes)\n",
        "        adj = torch.bmm(queries,keys) / np.sqrt(self.depth)\n",
        "\n",
        "        # return the softmax of the learned adjacency matrix\n",
        "        adj = torch.softmax(adj,dim=-1)\n",
        "\n",
        "        # Average the adj matrix with the transpose so that the graph will be bidirectional\n",
        "        # e.g the connection from [1,2] should be the same as [2,1]\n",
        "        adj = (adj + adj.transpose(-1,-2))/2\n",
        "\n",
        "        # Set values below specified threshold to 0\n",
        "        adj[adj<=self.threshold] = 0\n",
        "\n",
        "        edge_indexes, edge_weights = dense_to_sparse(adj)\n",
        "\n",
        "        return edge_indexes, edge_weights"
      ],
      "metadata": {
        "id": "mVGaxxbMehZp"
      },
      "execution_count": 6,
      "outputs": []
    },
    {
      "cell_type": "markdown",
      "source": [
        "# GNN"
      ],
      "metadata": {
        "id": "cpZsdw5zeCa0"
      }
    },
    {
      "cell_type": "code",
      "source": [
        "class GraphAttentionNetwork(nn.Module):\n",
        "    def __init__(self, kernel_size = 2):\n",
        "        super().__init__()\n",
        "        self.gsl = GraphLearnerNN(1,threshold = 0.04)\n",
        "\n",
        "        self.layer1 = GATv2Conv(1, 1)\n",
        "\n",
        "        self.layer2 = GATv2Conv(1, 1)\n",
        "\n",
        "        self.pooling = nn.AvgPool2d(kernel_size=kernel_size)\n",
        "\n",
        "        self.activation = torch.nn.LeakyReLU()\n",
        "\n",
        "\n",
        "\n",
        "    def forward(self, x):\n",
        "\n",
        "        edge_idx, edge_weights = self.gsl(x)\n",
        "\n",
        "        edge_idx = edge_idx.to(int).to(device)\n",
        "\n",
        "        x = torch.reshape(x, (x.shape[0] * x.shape[1], x.shape[2]))\n",
        "        x = self.layer1(x, edge_idx)\n",
        "\n",
        "        x = self.activation(x)\n",
        "\n",
        "        x = self.layer2(x, edge_idx)\n",
        "        x = self.activation(x)\n",
        "\n",
        "        x = x.unsqueeze(0).unsqueeze(0)\n",
        "        #x = self.pooling(x)\n",
        "\n",
        "        linear = nn.Linear(x.shape[-1] * x.shape[-2], 2).to(x.device)\n",
        "        x = linear(torch.flatten(x))\n",
        "        return x\n",
        "        x = linear(torch.flatten(x))\n",
        "        return x"
      ],
      "metadata": {
        "id": "sUhgaxeDenh0"
      },
      "execution_count": 14,
      "outputs": []
    },
    {
      "cell_type": "markdown",
      "source": [
        "# Seizuresense Architecture\n"
      ],
      "metadata": {
        "id": "1gKeU5oBm9Uk"
      }
    },
    {
      "cell_type": "code",
      "source": [
        "class SeizureSense(nn.Module):\n",
        "    def __init__(self, num_channels, num_layers, dim, d_state=16, d_conv=4, expand=2, kernel_size=2):\n",
        "        super(SeizureSense, self).__init__()\n",
        "        self.mamba_model = EEGMamba(num_channels, num_layers, dim, d_state, d_conv, expand)\n",
        "        self.gnn_model = GraphAttentionNetwork(kernel_size)\n",
        "\n",
        "    def forward(self, x):\n",
        "        print(x.shape)\n",
        "        x = self.mamba_model(x)\n",
        "        x = x.squeeze(2)  # making it (batch_size, num_channels, dim)\n",
        "        print(x.shape)\n",
        "        x = self.gnn_model(x)\n",
        "        return x"
      ],
      "metadata": {
        "id": "F4gHPvlLnA2H"
      },
      "execution_count": 15,
      "outputs": []
    },
    {
      "cell_type": "code",
      "source": [
        "batch_size = 8\n",
        "num_channels = 23\n",
        "sequence_length = 15360\n",
        "dim = 1\n",
        "torch.cuda.empty_cache()\n",
        "\n",
        "data = torch.randn(batch_size, num_channels, sequence_length, dim).to(\"cuda\")\n",
        "model = SeizureSense(num_channels, num_layers=4, dim=dim, d_state=16, d_conv=4, expand=2).to(\"cuda\")\n",
        "output = model(data)\n",
        "\n",
        "print(output.shape)  # Expected shape: (2)"
      ],
      "metadata": {
        "colab": {
          "base_uri": "https://localhost:8080/"
        },
        "id": "JVR8OD23NvFb",
        "outputId": "5f229431-17f3-4187-b888-69e0e258bf19"
      },
      "execution_count": 16,
      "outputs": [
        {
          "output_type": "stream",
          "name": "stdout",
          "text": [
            "torch.Size([8, 23, 15360, 1])\n",
            "torch.Size([8, 23, 1])\n",
            "torch.Size([2])\n"
          ]
        }
      ]
    },
    {
      "cell_type": "code",
      "source": [],
      "metadata": {
        "id": "xH5XBm9jN11P"
      },
      "execution_count": null,
      "outputs": []
    }
  ]
}